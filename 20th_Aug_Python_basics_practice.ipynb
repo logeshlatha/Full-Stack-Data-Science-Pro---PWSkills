{
  "nbformat": 4,
  "nbformat_minor": 0,
  "metadata": {
    "colab": {
      "provenance": []
    },
    "kernelspec": {
      "name": "python3",
      "display_name": "Python 3"
    },
    "language_info": {
      "name": "python"
    }
  },
  "cells": [
    {
      "cell_type": "markdown",
      "source": [
        "# **String Based Assignment Problem**"
      ],
      "metadata": {
        "id": "rr7t50d9g8jd"
      }
    },
    {
      "cell_type": "markdown",
      "source": [
        "**1. Write a program to reverse a string.**"
      ],
      "metadata": {
        "id": "NTwFFvzGnOPx"
      }
    },
    {
      "cell_type": "code",
      "execution_count": null,
      "metadata": {
        "id": "9e65FNAw8vwf",
        "colab": {
          "base_uri": "https://localhost:8080/",
          "height": 36
        },
        "outputId": "0fca1714-3dae-4173-a4ff-84944ea98a02"
      },
      "outputs": [
        {
          "output_type": "execute_result",
          "data": {
            "text/plain": [
              "'.tsitneicS ataD a emoceb ot gniog ma I .hsegoL ma I'"
            ],
            "application/vnd.google.colaboratory.intrinsic+json": {
              "type": "string"
            }
          },
          "metadata": {},
          "execution_count": 1
        }
      ],
      "source": [
        "s1 = \"I am Logesh. I am going to become a Data Scientist.\"\n",
        "\n",
        "# Reverse a string\n",
        "\n",
        "s1[::-1]"
      ]
    },
    {
      "cell_type": "markdown",
      "source": [
        "**2. Check if a string is a palindrome.**"
      ],
      "metadata": {
        "id": "F0HJ0G0vngpE"
      }
    },
    {
      "cell_type": "code",
      "source": [
        "s2 = 'radar'\n",
        "\n",
        "# reverse the string\n",
        "rev_s2 = s2[::-1]\n",
        "\n",
        "# check if s2 and rev_s2 is same/not\n",
        "if s2 == rev_s2:\n",
        "    print(f'{s2} is a palindrome')\n",
        "else:\n",
        "    print(f'{s2} is not a palindrome')"
      ],
      "metadata": {
        "colab": {
          "base_uri": "https://localhost:8080/"
        },
        "id": "ddOz2m7UnCx8",
        "outputId": "5421cca1-201d-431a-9919-9e817cf7d079"
      },
      "execution_count": null,
      "outputs": [
        {
          "output_type": "stream",
          "name": "stdout",
          "text": [
            "radar is a palindrome\n"
          ]
        }
      ]
    },
    {
      "cell_type": "markdown",
      "source": [
        "**3. Convert a string to uppercase.**"
      ],
      "metadata": {
        "id": "yJLL-L3Sor-k"
      }
    },
    {
      "cell_type": "code",
      "source": [
        "s2.upper()"
      ],
      "metadata": {
        "colab": {
          "base_uri": "https://localhost:8080/",
          "height": 36
        },
        "id": "iZ2gZlW1nwZC",
        "outputId": "6cadc62e-7bcb-4101-f7fb-43b28994e619"
      },
      "execution_count": null,
      "outputs": [
        {
          "output_type": "execute_result",
          "data": {
            "text/plain": [
              "'RADAR'"
            ],
            "application/vnd.google.colaboratory.intrinsic+json": {
              "type": "string"
            }
          },
          "metadata": {},
          "execution_count": 3
        }
      ]
    },
    {
      "cell_type": "markdown",
      "source": [
        "**4. Convert a string to lowercase.**"
      ],
      "metadata": {
        "id": "tu7t0xQfo1OA"
      }
    },
    {
      "cell_type": "code",
      "source": [
        "s2.lower()"
      ],
      "metadata": {
        "colab": {
          "base_uri": "https://localhost:8080/",
          "height": 36
        },
        "id": "xJizda5Eox-7",
        "outputId": "b472bce4-a352-4af2-848d-ed4fde49799e"
      },
      "execution_count": null,
      "outputs": [
        {
          "output_type": "execute_result",
          "data": {
            "text/plain": [
              "'radar'"
            ],
            "application/vnd.google.colaboratory.intrinsic+json": {
              "type": "string"
            }
          },
          "metadata": {},
          "execution_count": 4
        }
      ]
    },
    {
      "cell_type": "markdown",
      "source": [
        "**5. Count the number of vowels in a string.**"
      ],
      "metadata": {
        "id": "9GpCwLtTo9XU"
      }
    },
    {
      "cell_type": "code",
      "source": [
        "count = 0\n",
        "\n",
        "for letter in s2:\n",
        "  if letter in 'aeiou':\n",
        "    count+=1\n",
        "print(count)"
      ],
      "metadata": {
        "colab": {
          "base_uri": "https://localhost:8080/"
        },
        "id": "xbiY7wB3o0e0",
        "outputId": "33728169-d7e5-4de9-e8db-c88094444622"
      },
      "execution_count": null,
      "outputs": [
        {
          "output_type": "stream",
          "name": "stdout",
          "text": [
            "2\n"
          ]
        }
      ]
    },
    {
      "cell_type": "markdown",
      "source": [
        "**6. Count the number of consonants in a string.**"
      ],
      "metadata": {
        "id": "T2g4wDh4sT6k"
      }
    },
    {
      "cell_type": "code",
      "source": [
        "count = 0\n",
        "\n",
        "for letter in s2:\n",
        "  if letter in 'aeiou':\n",
        "    count+=1\n",
        "print(len(s2)-count)"
      ],
      "metadata": {
        "colab": {
          "base_uri": "https://localhost:8080/"
        },
        "id": "hVrGMpixr8bO",
        "outputId": "bb3d9588-9f7e-4c94-8834-546ad988eb57"
      },
      "execution_count": null,
      "outputs": [
        {
          "output_type": "stream",
          "name": "stdout",
          "text": [
            "3\n"
          ]
        }
      ]
    },
    {
      "cell_type": "markdown",
      "source": [
        "**7. Remove all whitespaces from a string.**"
      ],
      "metadata": {
        "id": "aZtF4mSwsaY8"
      }
    },
    {
      "cell_type": "code",
      "source": [
        "s4 = \"I am Logesh. I am going to become a Data Scientist.\"\n",
        "\n",
        "s4.replace(' ','')"
      ],
      "metadata": {
        "colab": {
          "base_uri": "https://localhost:8080/",
          "height": 36
        },
        "id": "UCLBq0x7sLQn",
        "outputId": "32931934-bca0-4077-aa2a-f1d427cc97c6"
      },
      "execution_count": null,
      "outputs": [
        {
          "output_type": "execute_result",
          "data": {
            "text/plain": [
              "'IamLogesh.IamgoingtobecomeaDataScientist.'"
            ],
            "application/vnd.google.colaboratory.intrinsic+json": {
              "type": "string"
            }
          },
          "metadata": {},
          "execution_count": 7
        }
      ]
    },
    {
      "cell_type": "markdown",
      "source": [
        "**8. Find the length of a string without using the `len()` function.**"
      ],
      "metadata": {
        "id": "YJdSuMPit_pc"
      }
    },
    {
      "cell_type": "code",
      "source": [
        "length = 0\n",
        "\n",
        "for letter in s4:\n",
        "  length +=1\n",
        "print(length)"
      ],
      "metadata": {
        "colab": {
          "base_uri": "https://localhost:8080/"
        },
        "id": "Ov9eNNR4tmHT",
        "outputId": "bc274bb3-73ad-47d4-b627-1e40755037f1"
      },
      "execution_count": null,
      "outputs": [
        {
          "output_type": "stream",
          "name": "stdout",
          "text": [
            "51\n"
          ]
        }
      ]
    },
    {
      "cell_type": "markdown",
      "source": [
        "**9. Check if a string contains a specific word.**"
      ],
      "metadata": {
        "id": "6BouOgA_uv-D"
      }
    },
    {
      "cell_type": "code",
      "source": [
        "if s4.find('Logesh') > 0 :\n",
        "  print('Found')\n",
        "else:\n",
        "  print('Not Found')"
      ],
      "metadata": {
        "colab": {
          "base_uri": "https://localhost:8080/"
        },
        "id": "7ZT-LOhpuG9A",
        "outputId": "3c1bf7ad-a0e2-4933-b413-8a9c51507df3"
      },
      "execution_count": null,
      "outputs": [
        {
          "output_type": "stream",
          "name": "stdout",
          "text": [
            "Found\n"
          ]
        }
      ]
    },
    {
      "cell_type": "markdown",
      "source": [
        "**10. Replace a word in a string with another word.**"
      ],
      "metadata": {
        "id": "CDITHaLMvwwD"
      }
    },
    {
      "cell_type": "code",
      "source": [
        "s4.replace('Logesh','Logesh M')"
      ],
      "metadata": {
        "colab": {
          "base_uri": "https://localhost:8080/",
          "height": 36
        },
        "id": "0EkmasCCvdGX",
        "outputId": "06703f47-ebde-4d4d-8dfe-f5e560aa4675"
      },
      "execution_count": null,
      "outputs": [
        {
          "output_type": "execute_result",
          "data": {
            "text/plain": [
              "'I am Logesh M. I am going to become a Data Scientist.'"
            ],
            "application/vnd.google.colaboratory.intrinsic+json": {
              "type": "string"
            }
          },
          "metadata": {},
          "execution_count": 10
        }
      ]
    },
    {
      "cell_type": "markdown",
      "source": [
        "**11. Count the occurrences of a word in a string.**"
      ],
      "metadata": {
        "id": "jLIMs_hVx6mQ"
      }
    },
    {
      "cell_type": "code",
      "source": [
        "s5 = \"\"\"PW Skills - A One Stop Tech Solution where all your skills get sharpened and learn from the best tutors around the world that can easily boost your career\"\"\"\n",
        "\n",
        "s5.count('your')"
      ],
      "metadata": {
        "colab": {
          "base_uri": "https://localhost:8080/"
        },
        "id": "h3SXrNYQxJUu",
        "outputId": "faeb2f39-7583-4ded-b6b2-b471983f5ab4"
      },
      "execution_count": null,
      "outputs": [
        {
          "output_type": "execute_result",
          "data": {
            "text/plain": [
              "2"
            ]
          },
          "metadata": {},
          "execution_count": 11
        }
      ]
    },
    {
      "cell_type": "markdown",
      "source": [
        "**12. Find the first occurrence of a word in a string.**"
      ],
      "metadata": {
        "id": "uOMnA_Q-x3Cr"
      }
    },
    {
      "cell_type": "code",
      "source": [
        "s5.find('your')"
      ],
      "metadata": {
        "colab": {
          "base_uri": "https://localhost:8080/"
        },
        "id": "XjeOBMH0xU0f",
        "outputId": "015d2ffd-b53f-4068-925d-217d658f723c"
      },
      "execution_count": null,
      "outputs": [
        {
          "output_type": "execute_result",
          "data": {
            "text/plain": [
              "47"
            ]
          },
          "metadata": {},
          "execution_count": 12
        }
      ]
    },
    {
      "cell_type": "markdown",
      "source": [
        "**13. Find the last occurrence of a word in a string.**"
      ],
      "metadata": {
        "id": "_JgaLmg9yTKc"
      }
    },
    {
      "cell_type": "code",
      "source": [
        "s5.rfind('your')"
      ],
      "metadata": {
        "colab": {
          "base_uri": "https://localhost:8080/"
        },
        "id": "NqvwXiKRyK1k",
        "outputId": "555d46f1-8d04-493c-9eb8-a91ee7b4a647"
      },
      "execution_count": null,
      "outputs": [
        {
          "output_type": "execute_result",
          "data": {
            "text/plain": [
              "143"
            ]
          },
          "metadata": {},
          "execution_count": 13
        }
      ]
    },
    {
      "cell_type": "markdown",
      "source": [
        "**14. Split a string into a list of words.**"
      ],
      "metadata": {
        "id": "wqs-WGS2mJzO"
      }
    },
    {
      "cell_type": "code",
      "source": [
        "l = s5.split(' ')\n",
        "l"
      ],
      "metadata": {
        "colab": {
          "base_uri": "https://localhost:8080/"
        },
        "id": "siSqnQyMyci5",
        "outputId": "c1765d59-21bb-411b-ecb5-2c6efc31c006"
      },
      "execution_count": null,
      "outputs": [
        {
          "output_type": "execute_result",
          "data": {
            "text/plain": [
              "['PW',\n",
              " 'Skills',\n",
              " '-',\n",
              " 'A',\n",
              " 'One',\n",
              " 'Stop',\n",
              " 'Tech',\n",
              " 'Solution',\n",
              " 'where',\n",
              " 'all',\n",
              " 'your',\n",
              " 'skills',\n",
              " 'get',\n",
              " 'sharpened',\n",
              " 'and',\n",
              " 'learn',\n",
              " 'from',\n",
              " 'the',\n",
              " 'best',\n",
              " 'tutors',\n",
              " 'around',\n",
              " 'the',\n",
              " 'world',\n",
              " 'that',\n",
              " 'can',\n",
              " 'easily',\n",
              " 'boost',\n",
              " 'your',\n",
              " 'career']"
            ]
          },
          "metadata": {},
          "execution_count": 14
        }
      ]
    },
    {
      "cell_type": "markdown",
      "source": [
        "**15. Join a list of words into a string.**"
      ],
      "metadata": {
        "id": "QEPCSLivnBzZ"
      }
    },
    {
      "cell_type": "code",
      "source": [
        "s5 = ' '.join(l)\n",
        "s5"
      ],
      "metadata": {
        "id": "5QWSyPfWmUdI",
        "colab": {
          "base_uri": "https://localhost:8080/",
          "height": 36
        },
        "outputId": "387318ba-339a-4dcd-a4fe-f5fd35576377"
      },
      "execution_count": null,
      "outputs": [
        {
          "output_type": "execute_result",
          "data": {
            "text/plain": [
              "'PW Skills - A One Stop Tech Solution where all your skills get sharpened and learn from the best tutors around the world that can easily boost your career'"
            ],
            "application/vnd.google.colaboratory.intrinsic+json": {
              "type": "string"
            }
          },
          "metadata": {},
          "execution_count": 15
        }
      ]
    },
    {
      "cell_type": "markdown",
      "source": [
        "**16. Convert a string where words are separated by spaces to one where words\n",
        "are separated by underscore.**"
      ],
      "metadata": {
        "id": "I0g0F_9XneYL"
      }
    },
    {
      "cell_type": "code",
      "source": [
        "s6 = s5.replace(' ', '_')\n",
        "s6"
      ],
      "metadata": {
        "colab": {
          "base_uri": "https://localhost:8080/",
          "height": 36
        },
        "id": "YN8z5RvUnVl8",
        "outputId": "bf79169c-66ff-442a-88aa-3841e1e4f5bf"
      },
      "execution_count": null,
      "outputs": [
        {
          "output_type": "execute_result",
          "data": {
            "text/plain": [
              "'PW_Skills_-_A_One_Stop_Tech_Solution_where_all_your_skills_get_sharpened_and_learn_from_the_best_tutors_around_the_world_that_can_easily_boost_your_career'"
            ],
            "application/vnd.google.colaboratory.intrinsic+json": {
              "type": "string"
            }
          },
          "metadata": {},
          "execution_count": 16
        }
      ]
    },
    {
      "cell_type": "markdown",
      "source": [
        "**17. Check if a string starts with a specific word or phrase.**"
      ],
      "metadata": {
        "id": "2Fiu6Mmuon_1"
      }
    },
    {
      "cell_type": "code",
      "source": [
        "s6.startswith('Hi')"
      ],
      "metadata": {
        "colab": {
          "base_uri": "https://localhost:8080/"
        },
        "id": "fOaRZXtAny1p",
        "outputId": "8979e7bc-b2eb-4273-ea4c-5bd62c925482"
      },
      "execution_count": null,
      "outputs": [
        {
          "output_type": "execute_result",
          "data": {
            "text/plain": [
              "False"
            ]
          },
          "metadata": {},
          "execution_count": 17
        }
      ]
    },
    {
      "cell_type": "code",
      "source": [
        "s6.startswith('PW_Skills')"
      ],
      "metadata": {
        "colab": {
          "base_uri": "https://localhost:8080/"
        },
        "id": "5-SVBK1IpO7e",
        "outputId": "95a22d12-67be-4683-fed8-d177adf34836"
      },
      "execution_count": null,
      "outputs": [
        {
          "output_type": "execute_result",
          "data": {
            "text/plain": [
              "True"
            ]
          },
          "metadata": {},
          "execution_count": 18
        }
      ]
    },
    {
      "cell_type": "markdown",
      "source": [
        "**18. Check if a string ends with a specific word or phrase.**"
      ],
      "metadata": {
        "id": "DDtIfMFSpNo6"
      }
    },
    {
      "cell_type": "code",
      "source": [
        "s6.endswith('your')"
      ],
      "metadata": {
        "colab": {
          "base_uri": "https://localhost:8080/"
        },
        "id": "qEYaJJIapB7n",
        "outputId": "d8515be5-8f8b-4aca-805b-2db62cd9c651"
      },
      "execution_count": null,
      "outputs": [
        {
          "output_type": "execute_result",
          "data": {
            "text/plain": [
              "False"
            ]
          },
          "metadata": {},
          "execution_count": 19
        }
      ]
    },
    {
      "cell_type": "code",
      "source": [
        "s6.endswith('career')"
      ],
      "metadata": {
        "colab": {
          "base_uri": "https://localhost:8080/"
        },
        "id": "06vBmggzpkDX",
        "outputId": "bd4a2e82-e4a6-4c39-a2d6-74ea870a9dae"
      },
      "execution_count": null,
      "outputs": [
        {
          "output_type": "execute_result",
          "data": {
            "text/plain": [
              "True"
            ]
          },
          "metadata": {},
          "execution_count": 20
        }
      ]
    },
    {
      "cell_type": "markdown",
      "source": [
        "**19. Convert a string to title case (e.g., \"hello world\" to \"Hello World\").**"
      ],
      "metadata": {
        "id": "TpKmRX59qJRu"
      }
    },
    {
      "cell_type": "code",
      "source": [
        "s7 = 'python basics'\n",
        "s7.title()"
      ],
      "metadata": {
        "colab": {
          "base_uri": "https://localhost:8080/",
          "height": 36
        },
        "id": "5Zw_l8iwpn_r",
        "outputId": "28cc8e8b-ce39-4442-8de0-fb91a8a4bfa0"
      },
      "execution_count": null,
      "outputs": [
        {
          "output_type": "execute_result",
          "data": {
            "text/plain": [
              "'Python Basics'"
            ],
            "application/vnd.google.colaboratory.intrinsic+json": {
              "type": "string"
            }
          },
          "metadata": {},
          "execution_count": 21
        }
      ]
    },
    {
      "cell_type": "markdown",
      "source": [
        "**20. Find the longest word in a string.**"
      ],
      "metadata": {
        "id": "K3vvjwGUqhWK"
      }
    },
    {
      "cell_type": "code",
      "source": [
        "words = s5.split(' ')\n",
        "maximum = 0\n",
        "for word in words:\n",
        "  if len(word) > maximum and word.isalnum():\n",
        "    maximum = len(word)\n",
        "    longest_word = word\n",
        "print(longest_word)"
      ],
      "metadata": {
        "colab": {
          "base_uri": "https://localhost:8080/"
        },
        "id": "sVz-ln89qcdb",
        "outputId": "81962878-0837-4740-9248-d9a43a335e6d"
      },
      "execution_count": null,
      "outputs": [
        {
          "output_type": "stream",
          "name": "stdout",
          "text": [
            "sharpened\n"
          ]
        }
      ]
    },
    {
      "cell_type": "markdown",
      "source": [
        "**21. Find the shortest word in a string.**"
      ],
      "metadata": {
        "id": "CSSA0QYarguh"
      }
    },
    {
      "cell_type": "code",
      "source": [
        "words = s5.split(' ')\n",
        "minimum = 100\n",
        "for word in words:\n",
        "  if len(word) < minimum and word.isalnum():\n",
        "    minimum = len(word)\n",
        "    shortest_word = word\n",
        "print(shortest_word)"
      ],
      "metadata": {
        "colab": {
          "base_uri": "https://localhost:8080/"
        },
        "id": "IrARr4Fsqqq2",
        "outputId": "04aeced4-8b4f-4140-a20e-2610904bf1c8"
      },
      "execution_count": null,
      "outputs": [
        {
          "output_type": "stream",
          "name": "stdout",
          "text": [
            "A\n"
          ]
        }
      ]
    },
    {
      "cell_type": "markdown",
      "source": [
        "**22. Reverse the order of words in a string.**"
      ],
      "metadata": {
        "id": "3XGrizpSs7OE"
      }
    },
    {
      "cell_type": "code",
      "source": [
        "s5"
      ],
      "metadata": {
        "colab": {
          "base_uri": "https://localhost:8080/",
          "height": 36
        },
        "id": "WFbE6V6usaDB",
        "outputId": "8e63ad2a-83c0-461d-c365-2f8e6dcfe315"
      },
      "execution_count": null,
      "outputs": [
        {
          "output_type": "execute_result",
          "data": {
            "text/plain": [
              "'PW Skills - A One Stop Tech Solution where all your skills get sharpened and learn from the best tutors around the world that can easily boost your career'"
            ],
            "application/vnd.google.colaboratory.intrinsic+json": {
              "type": "string"
            }
          },
          "metadata": {},
          "execution_count": 24
        }
      ]
    },
    {
      "cell_type": "code",
      "source": [
        "s8 = ' '.join(s5.split(' ')[::-1])\n",
        "s8"
      ],
      "metadata": {
        "colab": {
          "base_uri": "https://localhost:8080/",
          "height": 36
        },
        "id": "-IzAmBYes_wS",
        "outputId": "e55a6e9b-76ef-4fe3-90a0-be0d28ee9f94"
      },
      "execution_count": null,
      "outputs": [
        {
          "output_type": "execute_result",
          "data": {
            "text/plain": [
              "'career your boost easily can that world the around tutors best the from learn and sharpened get skills your all where Solution Tech Stop One A - Skills PW'"
            ],
            "application/vnd.google.colaboratory.intrinsic+json": {
              "type": "string"
            }
          },
          "metadata": {},
          "execution_count": 25
        }
      ]
    },
    {
      "cell_type": "markdown",
      "source": [
        "**23. Check if a string is alphanumeric.**"
      ],
      "metadata": {
        "id": "4LYzf87Atc8k"
      }
    },
    {
      "cell_type": "code",
      "source": [
        "s5.isalnum()"
      ],
      "metadata": {
        "colab": {
          "base_uri": "https://localhost:8080/"
        },
        "id": "EP3zwjkftImi",
        "outputId": "c8225977-88c3-49ad-ef5c-9e6dd80567f1"
      },
      "execution_count": null,
      "outputs": [
        {
          "output_type": "execute_result",
          "data": {
            "text/plain": [
              "False"
            ]
          },
          "metadata": {},
          "execution_count": 26
        }
      ]
    },
    {
      "cell_type": "markdown",
      "source": [
        "**24. Extract all digits from a string.**"
      ],
      "metadata": {
        "id": "a1XAqGlyto4i"
      }
    },
    {
      "cell_type": "code",
      "source": [
        "s9 = 'I like number 2 and also I like num 5.'\n",
        "digits = []\n",
        "for letter in s9:\n",
        "  if letter.isdigit():\n",
        "    digits.append(int(letter))\n",
        "print(digits)"
      ],
      "metadata": {
        "colab": {
          "base_uri": "https://localhost:8080/"
        },
        "id": "cdXsqkH2tlos",
        "outputId": "3751554d-46d8-4392-c8e7-c37d4a5b88f5"
      },
      "execution_count": null,
      "outputs": [
        {
          "output_type": "stream",
          "name": "stdout",
          "text": [
            "[2, 5]\n"
          ]
        }
      ]
    },
    {
      "cell_type": "markdown",
      "source": [
        "**25. Extract all alphabets from a string.**"
      ],
      "metadata": {
        "id": "Y7NsvKfIwCsf"
      }
    },
    {
      "cell_type": "code",
      "source": [
        "alphabets = []\n",
        "for letter in s9:\n",
        "  if letter.isalpha():\n",
        "    alphabets.append(letter)\n",
        "print(alphabets)\n"
      ],
      "metadata": {
        "colab": {
          "base_uri": "https://localhost:8080/"
        },
        "id": "_9SfGTbevK6v",
        "outputId": "40aa5740-6d4f-48a1-8955-4673579f0a9d"
      },
      "execution_count": null,
      "outputs": [
        {
          "output_type": "stream",
          "name": "stdout",
          "text": [
            "['I', 'l', 'i', 'k', 'e', 'n', 'u', 'm', 'b', 'e', 'r', 'a', 'n', 'd', 'a', 'l', 's', 'o', 'I', 'l', 'i', 'k', 'e', 'n', 'u', 'm']\n"
          ]
        }
      ]
    },
    {
      "cell_type": "markdown",
      "source": [
        "**26. Count the number of uppercase letters in a string.**"
      ],
      "metadata": {
        "id": "CXA86f0Hrbnk"
      }
    },
    {
      "cell_type": "code",
      "source": [
        "uppercase_count = 0\n",
        "for letter in s9:\n",
        "  if letter.isupper():\n",
        "    uppercase_count +=1\n",
        "print(uppercase_count)"
      ],
      "metadata": {
        "id": "SdLsAqizwfDM",
        "colab": {
          "base_uri": "https://localhost:8080/"
        },
        "outputId": "ef45836a-e87b-4cec-f983-bf73ae4e8903"
      },
      "execution_count": null,
      "outputs": [
        {
          "output_type": "stream",
          "name": "stdout",
          "text": [
            "2\n"
          ]
        }
      ]
    },
    {
      "cell_type": "markdown",
      "source": [
        "**27. Count the number of lowercase letters in a string.**"
      ],
      "metadata": {
        "id": "I-bSuRdktvNC"
      }
    },
    {
      "cell_type": "code",
      "source": [
        "lowercase_count = 0\n",
        "for letter in s9:\n",
        "  if letter.islower():\n",
        "    lowercase_count +=1\n",
        "print(lowercase_count)"
      ],
      "metadata": {
        "colab": {
          "base_uri": "https://localhost:8080/"
        },
        "id": "xdOKI331tfjX",
        "outputId": "2d25eac2-1bd9-4297-e0d7-32ded9b7d39f"
      },
      "execution_count": null,
      "outputs": [
        {
          "output_type": "stream",
          "name": "stdout",
          "text": [
            "24\n"
          ]
        }
      ]
    },
    {
      "cell_type": "markdown",
      "source": [
        "**28. Swap the case of each character in a string.**"
      ],
      "metadata": {
        "id": "c-6J1SXZuKGf"
      }
    },
    {
      "cell_type": "code",
      "source": [
        "s9.swapcase()"
      ],
      "metadata": {
        "colab": {
          "base_uri": "https://localhost:8080/",
          "height": 36
        },
        "id": "baJEgpPCt1Zu",
        "outputId": "695898f3-9ef1-4552-e1bc-c03cdecb7af2"
      },
      "execution_count": null,
      "outputs": [
        {
          "output_type": "execute_result",
          "data": {
            "text/plain": [
              "'i LIKE NUMBER 2 AND ALSO i LIKE NUM 5.'"
            ],
            "application/vnd.google.colaboratory.intrinsic+json": {
              "type": "string"
            }
          },
          "metadata": {},
          "execution_count": 31
        }
      ]
    },
    {
      "cell_type": "markdown",
      "source": [
        "**29. Remove a specific word from a string.**"
      ],
      "metadata": {
        "id": "bgLfbiAxuPfp"
      }
    },
    {
      "cell_type": "code",
      "source": [
        "s9.replace('num', '')"
      ],
      "metadata": {
        "colab": {
          "base_uri": "https://localhost:8080/",
          "height": 36
        },
        "id": "lTqMc_d-XReI",
        "outputId": "9cf3c1d2-d31d-490d-9009-dc7111f3757e"
      },
      "execution_count": null,
      "outputs": [
        {
          "output_type": "execute_result",
          "data": {
            "text/plain": [
              "'I like ber 2 and also I like  5.'"
            ],
            "application/vnd.google.colaboratory.intrinsic+json": {
              "type": "string"
            }
          },
          "metadata": {},
          "execution_count": 32
        }
      ]
    },
    {
      "cell_type": "markdown",
      "source": [
        "**30. Check if a string is a valid email address.**"
      ],
      "metadata": {
        "id": "dnExP2xqXZ_9"
      }
    },
    {
      "cell_type": "code",
      "source": [
        "s10 = 'logesh@gmail.com'\n",
        "if s10.islower() and s10.endswith('.com' or '.in') and '@' in s10:\n",
        "  print('Valid Email')\n",
        "else:\n",
        "  print('Invalid Email')"
      ],
      "metadata": {
        "colab": {
          "base_uri": "https://localhost:8080/"
        },
        "id": "lXDpHa4DXd5t",
        "outputId": "230bdf5d-b084-4ec9-9577-1af9d1d187fd"
      },
      "execution_count": null,
      "outputs": [
        {
          "output_type": "stream",
          "name": "stdout",
          "text": [
            "Valid Email\n"
          ]
        }
      ]
    },
    {
      "cell_type": "markdown",
      "source": [
        "**31. Extract the username from an email address string.**"
      ],
      "metadata": {
        "id": "dBaMjWZ7X4wJ"
      }
    },
    {
      "cell_type": "code",
      "source": [
        "username = s10.split('@')[0]\n",
        "username"
      ],
      "metadata": {
        "colab": {
          "base_uri": "https://localhost:8080/",
          "height": 36
        },
        "id": "lZkFdud1X0t-",
        "outputId": "daeee3c6-de47-4c70-9880-cfe6d15780c7"
      },
      "execution_count": null,
      "outputs": [
        {
          "output_type": "execute_result",
          "data": {
            "text/plain": [
              "'logesh'"
            ],
            "application/vnd.google.colaboratory.intrinsic+json": {
              "type": "string"
            }
          },
          "metadata": {},
          "execution_count": 34
        }
      ]
    },
    {
      "cell_type": "markdown",
      "source": [
        "**32. Extract the domain name from an email address string.**"
      ],
      "metadata": {
        "id": "Pe4ftuyiX8fj"
      }
    },
    {
      "cell_type": "code",
      "source": [
        "domain_name = s10.split('@')[1]\n",
        "domain_name"
      ],
      "metadata": {
        "id": "tZOb1PfaX7Kn",
        "colab": {
          "base_uri": "https://localhost:8080/",
          "height": 36
        },
        "outputId": "77ab5c47-cdc3-47e5-c107-24a97a580111"
      },
      "execution_count": null,
      "outputs": [
        {
          "output_type": "execute_result",
          "data": {
            "text/plain": [
              "'gmail.com'"
            ],
            "application/vnd.google.colaboratory.intrinsic+json": {
              "type": "string"
            }
          },
          "metadata": {},
          "execution_count": 35
        }
      ]
    },
    {
      "cell_type": "markdown",
      "source": [
        "**33. Replace multiple spaces in a string with a single space.**"
      ],
      "metadata": {
        "id": "Pm0SeTRBZaf6"
      }
    },
    {
      "cell_type": "code",
      "source": [
        "s11 = 'Hi I am Logesh I am going    to become a Data scientist.'\n",
        "words = ' '.join(s11.split())\n",
        "words"
      ],
      "metadata": {
        "id": "dOI_oz4eX7j9",
        "colab": {
          "base_uri": "https://localhost:8080/",
          "height": 36
        },
        "outputId": "ed438614-b7f4-4823-95e3-16f54c83827c"
      },
      "execution_count": null,
      "outputs": [
        {
          "output_type": "execute_result",
          "data": {
            "text/plain": [
              "'Hi I am Logesh I am going to become a Data scientist.'"
            ],
            "application/vnd.google.colaboratory.intrinsic+json": {
              "type": "string"
            }
          },
          "metadata": {},
          "execution_count": 36
        }
      ]
    },
    {
      "cell_type": "markdown",
      "source": [
        "**34. Check if a string is a valid URL.**"
      ],
      "metadata": {
        "id": "dvouBifAZcem"
      }
    },
    {
      "cell_type": "code",
      "source": [
        "url = 'https://www.youtube.com'\n",
        "if url.startswith('https' or 'http'):\n",
        "  if url.endswith('.com' or '.in' or '.org'):\n",
        "    print('Valid URL')\n",
        "  else:\n",
        "    print('Invalid URL')\n",
        "else:\n",
        "  print('Invalid URL')"
      ],
      "metadata": {
        "id": "xvnFrLQ0ZdQ4",
        "colab": {
          "base_uri": "https://localhost:8080/"
        },
        "outputId": "9ea2b3bf-e206-4ba6-a5e3-cf56c9716ded"
      },
      "execution_count": null,
      "outputs": [
        {
          "output_type": "stream",
          "name": "stdout",
          "text": [
            "Valid URL\n"
          ]
        }
      ]
    },
    {
      "cell_type": "markdown",
      "source": [
        "**35. Extract the protocol (http or https) from a URL string.**"
      ],
      "metadata": {
        "id": "N1JXySajZdmk"
      }
    },
    {
      "cell_type": "code",
      "source": [
        "protocol = url.split('://')[0]\n",
        "protocol"
      ],
      "metadata": {
        "colab": {
          "base_uri": "https://localhost:8080/",
          "height": 36
        },
        "id": "gNp0Fv7Bs-pN",
        "outputId": "4daf9aeb-8b37-46ca-d63d-4c25bee4ead8"
      },
      "execution_count": null,
      "outputs": [
        {
          "output_type": "execute_result",
          "data": {
            "text/plain": [
              "'https'"
            ],
            "application/vnd.google.colaboratory.intrinsic+json": {
              "type": "string"
            }
          },
          "metadata": {},
          "execution_count": 38
        }
      ]
    },
    {
      "cell_type": "markdown",
      "source": [
        "**36. Find the frequency of each character in a string.**"
      ],
      "metadata": {
        "id": "fOGwvP2cvMUO"
      }
    },
    {
      "cell_type": "code",
      "source": [
        "s12 = 'Hi I am Logesh. I am going to become a \"Data scientist.\"'\n",
        "freq = {}\n",
        "for letter in s12:\n",
        "  if letter.isalpha():\n",
        "    if letter.lower() in freq:\n",
        "      freq[letter.lower()] += 1\n",
        "    else:\n",
        "      freq[letter.lower()] = 1\n",
        "print(freq)"
      ],
      "metadata": {
        "colab": {
          "base_uri": "https://localhost:8080/"
        },
        "id": "nvyew3F8vJtL",
        "outputId": "3ae217b1-ce1b-47fe-f89c-147b5b67e81d"
      },
      "execution_count": null,
      "outputs": [
        {
          "output_type": "stream",
          "name": "stdout",
          "text": [
            "{'h': 2, 'i': 6, 'a': 5, 'm': 3, 'l': 1, 'o': 4, 'g': 3, 'e': 4, 's': 3, 'n': 2, 't': 4, 'b': 1, 'c': 2, 'd': 1}\n"
          ]
        }
      ]
    },
    {
      "cell_type": "markdown",
      "source": [
        "**37. Remove all punctuation from a string.**"
      ],
      "metadata": {
        "id": "6BtQgBpqvUQX"
      }
    },
    {
      "cell_type": "code",
      "source": [
        "punctuation_symbols = ['.', ',', ':', ';', \"'\", '\"', '–', '—', '()', '/', '!', '?', '…']\n",
        "for letter in s12:\n",
        "  if letter in punctuation_symbols:\n",
        "    s12 = s12.replace(letter,'')\n",
        "print(s12)"
      ],
      "metadata": {
        "colab": {
          "base_uri": "https://localhost:8080/"
        },
        "id": "5uq8jEFYvJB1",
        "outputId": "fa83a04b-f5d3-48ac-bc82-ca1753aec3a3"
      },
      "execution_count": null,
      "outputs": [
        {
          "output_type": "stream",
          "name": "stdout",
          "text": [
            "Hi I am Logesh I am going to become a Data scientist\n"
          ]
        }
      ]
    },
    {
      "cell_type": "markdown",
      "source": [
        "**38. Check if a string contains only digits.**"
      ],
      "metadata": {
        "id": "9cGwhQeCvWX3"
      }
    },
    {
      "cell_type": "code",
      "source": [
        "s13 = '2134365475'\n",
        "for letter in s13:\n",
        "  if not letter.isdigit():\n",
        "    print('string contains non-digit')\n",
        "    break\n",
        "else:\n",
        "  print('string contains only digits')"
      ],
      "metadata": {
        "colab": {
          "base_uri": "https://localhost:8080/"
        },
        "id": "ZdrDIo4cvaaD",
        "outputId": "98534780-290f-4696-ea51-20cae87b532e"
      },
      "execution_count": null,
      "outputs": [
        {
          "output_type": "stream",
          "name": "stdout",
          "text": [
            "string contains only digits\n"
          ]
        }
      ]
    },
    {
      "cell_type": "markdown",
      "source": [
        "**39. Check if a string contains only alphabets.**"
      ],
      "metadata": {
        "id": "KnE-XGmqvbJU"
      }
    },
    {
      "cell_type": "code",
      "source": [
        "s13 = 'hisdk'\n",
        "for letter in s13:\n",
        "  if not letter.isalpha():\n",
        "    print('string contains non-alphabets')\n",
        "    break\n",
        "else:\n",
        "  print('string contains only alphabets')"
      ],
      "metadata": {
        "colab": {
          "base_uri": "https://localhost:8080/"
        },
        "id": "cIZlnwgBvdWS",
        "outputId": "86ba1968-7c20-41f7-b235-e58eb189df1e"
      },
      "execution_count": null,
      "outputs": [
        {
          "output_type": "stream",
          "name": "stdout",
          "text": [
            "string contains only alphabets\n"
          ]
        }
      ]
    },
    {
      "cell_type": "markdown",
      "source": [
        "**40. Convert a string to a list of characters.**"
      ],
      "metadata": {
        "id": "pOt3rj4a0T1T"
      }
    },
    {
      "cell_type": "code",
      "source": [
        "list(s11)"
      ],
      "metadata": {
        "colab": {
          "base_uri": "https://localhost:8080/"
        },
        "id": "_Og-ZWtr0LL2",
        "outputId": "5571a367-a129-4853-8cbe-8166ac6df8f0"
      },
      "execution_count": null,
      "outputs": [
        {
          "output_type": "execute_result",
          "data": {
            "text/plain": [
              "['H',\n",
              " 'i',\n",
              " ' ',\n",
              " 'I',\n",
              " ' ',\n",
              " 'a',\n",
              " 'm',\n",
              " ' ',\n",
              " 'L',\n",
              " 'o',\n",
              " 'g',\n",
              " 'e',\n",
              " 's',\n",
              " 'h',\n",
              " ' ',\n",
              " 'I',\n",
              " ' ',\n",
              " 'a',\n",
              " 'm',\n",
              " ' ',\n",
              " 'g',\n",
              " 'o',\n",
              " 'i',\n",
              " 'n',\n",
              " 'g',\n",
              " ' ',\n",
              " ' ',\n",
              " ' ',\n",
              " ' ',\n",
              " 't',\n",
              " 'o',\n",
              " ' ',\n",
              " 'b',\n",
              " 'e',\n",
              " 'c',\n",
              " 'o',\n",
              " 'm',\n",
              " 'e',\n",
              " ' ',\n",
              " 'a',\n",
              " ' ',\n",
              " 'D',\n",
              " 'a',\n",
              " 't',\n",
              " 'a',\n",
              " ' ',\n",
              " 's',\n",
              " 'c',\n",
              " 'i',\n",
              " 'e',\n",
              " 'n',\n",
              " 't',\n",
              " 'i',\n",
              " 's',\n",
              " 't',\n",
              " '.']"
            ]
          },
          "metadata": {},
          "execution_count": 43
        }
      ]
    },
    {
      "cell_type": "markdown",
      "source": [
        "**41. Check if two strings are anagrams.**"
      ],
      "metadata": {
        "id": "oWaK445I1ei0"
      }
    },
    {
      "cell_type": "code",
      "source": [
        "s14 = 'silent'\n",
        "s15 = 'listen'\n",
        "\n",
        "if len(s14) == len(s15):\n",
        "  if sorted(s14) == sorted(s15):\n",
        "    print('Anagrams')\n",
        "  else:\n",
        "    print('Not Anagrams')\n",
        "else:\n",
        "  print('Not Anagrams')"
      ],
      "metadata": {
        "colab": {
          "base_uri": "https://localhost:8080/"
        },
        "id": "2Ka-J2b30hi4",
        "outputId": "81feb2a6-0727-4aa5-af89-86f98bde45c2"
      },
      "execution_count": null,
      "outputs": [
        {
          "output_type": "stream",
          "name": "stdout",
          "text": [
            "Anagrams\n"
          ]
        }
      ]
    },
    {
      "cell_type": "markdown",
      "source": [
        "**42. Encode a string using a Caesar cipher.**"
      ],
      "metadata": {
        "id": "0kpuJ4Ij-unY"
      }
    },
    {
      "cell_type": "code",
      "source": [
        "s16 = 'logesh 27'\n",
        "shift = 5\n",
        "encrypted = ''\n",
        "for letter in s16:\n",
        "  if letter.isdigit():\n",
        "    encrypted_letter = str((int(letter) + shift)%9)\n",
        "    encrypted += encrypted_letter\n",
        "  elif letter == ' ':\n",
        "    encrypted += ' '\n",
        "  else:\n",
        "    shift_base = 65 if letter.isupper() else 97\n",
        "    encrypted_letter = chr((ord(letter) - shift_base + shift) % 26 + shift_base)\n",
        "    encrypted += encrypted_letter\n",
        "print(encrypted)"
      ],
      "metadata": {
        "colab": {
          "base_uri": "https://localhost:8080/"
        },
        "id": "0b1NTQMQ-qrd",
        "outputId": "350abba6-5c37-4689-9af9-5b305d0c0941"
      },
      "execution_count": null,
      "outputs": [
        {
          "output_type": "stream",
          "name": "stdout",
          "text": [
            "qtljxm 73\n"
          ]
        }
      ]
    },
    {
      "cell_type": "markdown",
      "source": [
        "**43. Decode a Caesar cipher encoded string.**"
      ],
      "metadata": {
        "id": "Iw9Gh2JVDfXQ"
      }
    },
    {
      "cell_type": "code",
      "source": [
        "decrypted = ''\n",
        "for letter in encrypted:\n",
        "  if letter.isdigit():\n",
        "    decrypted_letter = str((int(letter) - shift)%9)\n",
        "    decrypted += decrypted_letter\n",
        "  elif letter == ' ':\n",
        "    decrypted += ' '\n",
        "  else:\n",
        "    shift_base = 65 if letter.isupper() else 97\n",
        "    decrypted_letter = chr((ord(letter) - shift_base - shift) % 26 + shift_base)\n",
        "    decrypted += decrypted_letter\n",
        "print(decrypted)"
      ],
      "metadata": {
        "colab": {
          "base_uri": "https://localhost:8080/"
        },
        "id": "qlw-SCAQ_6WB",
        "outputId": "ad083317-82ef-4fcb-8ff6-c3c4e79956d9"
      },
      "execution_count": null,
      "outputs": [
        {
          "output_type": "stream",
          "name": "stdout",
          "text": [
            "logesh 27\n"
          ]
        }
      ]
    },
    {
      "cell_type": "markdown",
      "source": [
        "**44. Find the most frequent word in a string.**"
      ],
      "metadata": {
        "id": "WeXlbVGtFQ_A"
      }
    },
    {
      "cell_type": "code",
      "source": [
        "s17 = \"\"\"PW Skills - A One Stop Tech Solution where all your skills get sharpened and learn from the best tutors around the world that can easily boost your career\"\"\"\n",
        "\n",
        "word_counts = {}\n",
        "words = s17.lower().split()\n",
        "\n",
        "for word in words:\n",
        "  if word in word_counts:\n",
        "    word_counts[word] += 1\n",
        "  else:\n",
        "    word_counts[word] = 1\n",
        "\n",
        "most_frequent_word = None\n",
        "max_count = 0\n",
        "\n",
        "for word, count in word_counts.items():\n",
        "  if count > max_count:\n",
        "    max_count = count\n",
        "    most_frequent_word = word\n",
        "\n",
        "print(f\"The most frequent word is '{most_frequent_word}' with a count of {max_count}.\")\n"
      ],
      "metadata": {
        "colab": {
          "base_uri": "https://localhost:8080/"
        },
        "id": "Y1Rd-lYPFxWw",
        "outputId": "7dc7a935-1ad3-4bd0-eb09-5cbd0ef16a5d"
      },
      "execution_count": null,
      "outputs": [
        {
          "output_type": "stream",
          "name": "stdout",
          "text": [
            "The most frequent word is 'skills' with a count of 2.\n"
          ]
        }
      ]
    },
    {
      "cell_type": "markdown",
      "source": [
        "**45. Find all unique words in a string.**"
      ],
      "metadata": {
        "id": "UhiYOlxGVmaz"
      }
    },
    {
      "cell_type": "code",
      "source": [
        "word_counts = {}\n",
        "words = s17.lower().split()\n",
        "\n",
        "for word in words:\n",
        "  if word in word_counts:\n",
        "    word_counts[word] += 1\n",
        "  else:\n",
        "    word_counts[word] = 1\n",
        "\n",
        "most_frequent_word = None\n",
        "min_count = len(words)\n",
        "\n",
        "for word, count in word_counts.items():\n",
        "  if count < min_count:\n",
        "    min_count = count\n",
        "    unique_word = word\n",
        "\n",
        "print(f\"The unique word is '{unique_word}' with a count of {min_count}.\")\n"
      ],
      "metadata": {
        "colab": {
          "base_uri": "https://localhost:8080/"
        },
        "id": "564eXZtJWGTP",
        "outputId": "43ae20af-9d4d-4e5b-c554-23965e7eb7da"
      },
      "execution_count": null,
      "outputs": [
        {
          "output_type": "stream",
          "name": "stdout",
          "text": [
            "The unique word is 'pw' with a count of 1.\n"
          ]
        }
      ]
    },
    {
      "cell_type": "markdown",
      "source": [
        "**46. Count the number of syllables in a string.**"
      ],
      "metadata": {
        "id": "F9Vn6cvjPPcG"
      }
    },
    {
      "cell_type": "code",
      "source": [
        "import re\n",
        "\n",
        "def count_syllables(word):\n",
        "  \"\"\"Counts the number of syllables in a word using a basic vowel-based approach.\"\"\"\n",
        "  word = word.lower()\n",
        "  vowel_groups = re.findall(r'[aeiouy]+', word)\n",
        "  return vowel_groups"
      ],
      "metadata": {
        "id": "0RzSWfr4W2bL"
      },
      "execution_count": null,
      "outputs": []
    },
    {
      "cell_type": "code",
      "source": [
        "word = \"hello\"\n",
        "syllable_count = count_syllables(word)\n",
        "print(f\"The word '{word}' has {syllable_count} syllables.\")"
      ],
      "metadata": {
        "colab": {
          "base_uri": "https://localhost:8080/"
        },
        "id": "8A5K6_i9SNF_",
        "outputId": "cd2f76d6-0b78-4707-c3b4-a1620f24641f"
      },
      "execution_count": null,
      "outputs": [
        {
          "output_type": "stream",
          "name": "stdout",
          "text": [
            "The word 'hello' has ['e', 'o'] syllables.\n"
          ]
        }
      ]
    },
    {
      "cell_type": "code",
      "source": [
        "word = \"programming\"\n",
        "syllable_count = count_syllables(word)\n",
        "print(f\"The word '{word}' has {syllable_count} syllables.\")"
      ],
      "metadata": {
        "colab": {
          "base_uri": "https://localhost:8080/"
        },
        "id": "OiCWTncRVENE",
        "outputId": "72500def-fcaf-45a8-eeed-a99f0c4d824a"
      },
      "execution_count": null,
      "outputs": [
        {
          "output_type": "stream",
          "name": "stdout",
          "text": [
            "The word 'programming' has ['o', 'a', 'i'] syllables.\n"
          ]
        }
      ]
    },
    {
      "cell_type": "markdown",
      "source": [
        "**47. Check if a string contains any special characters.**"
      ],
      "metadata": {
        "id": "ChGUUvjyVLcM"
      }
    },
    {
      "cell_type": "code",
      "source": [
        "s18 = 'I am logesh rerge@324*2454%3'\n",
        "\n",
        "if s18.replace(' ', '').isalnum():\n",
        "  print('No special characters')\n",
        "else:\n",
        "  print('Contains special characters')"
      ],
      "metadata": {
        "colab": {
          "base_uri": "https://localhost:8080/"
        },
        "id": "RV8fUqF4VHN_",
        "outputId": "df5a0a10-e9b8-4a2a-da78-3c79e7974615"
      },
      "execution_count": null,
      "outputs": [
        {
          "output_type": "stream",
          "name": "stdout",
          "text": [
            "Contains special characters\n"
          ]
        }
      ]
    },
    {
      "cell_type": "markdown",
      "source": [
        "**48. Remove the nth word from a string.**"
      ],
      "metadata": {
        "id": "PsaCTUw0WTrS"
      }
    },
    {
      "cell_type": "code",
      "source": [
        "string_list = list(s18)\n",
        "n = 3\n",
        "string_list.pop(n-1)"
      ],
      "metadata": {
        "colab": {
          "base_uri": "https://localhost:8080/",
          "height": 36
        },
        "id": "oFN7YnJYVhyi",
        "outputId": "ca6234c1-6ae6-4fff-ceb8-5f7419e255dd"
      },
      "execution_count": null,
      "outputs": [
        {
          "output_type": "execute_result",
          "data": {
            "text/plain": [
              "'a'"
            ],
            "application/vnd.google.colaboratory.intrinsic+json": {
              "type": "string"
            }
          },
          "metadata": {},
          "execution_count": 53
        }
      ]
    },
    {
      "cell_type": "code",
      "source": [
        "s19 = ''.join(string_list)\n",
        "s19"
      ],
      "metadata": {
        "colab": {
          "base_uri": "https://localhost:8080/",
          "height": 36
        },
        "id": "-oQhtqzGVhK9",
        "outputId": "a99184e3-588c-4b53-b779-c696198a2712"
      },
      "execution_count": null,
      "outputs": [
        {
          "output_type": "execute_result",
          "data": {
            "text/plain": [
              "'I m logesh rerge@324*2454%3'"
            ],
            "application/vnd.google.colaboratory.intrinsic+json": {
              "type": "string"
            }
          },
          "metadata": {},
          "execution_count": 54
        }
      ]
    },
    {
      "cell_type": "markdown",
      "source": [
        "**49. Insert a word at the nth position in a string.**"
      ],
      "metadata": {
        "id": "FwWSw1zUb-9Z"
      }
    },
    {
      "cell_type": "code",
      "source": [
        "s20 = 'I am Logesh'\n",
        "word = ' M'\n",
        "pos = 12\n",
        "\n",
        "list_words = list(s20)\n",
        "list_words.insert(pos,word)\n",
        "s20 = ''.join(list_words)\n",
        "s20"
      ],
      "metadata": {
        "colab": {
          "base_uri": "https://localhost:8080/",
          "height": 36
        },
        "id": "XOEcs-ayXbND",
        "outputId": "28f81fdd-0fd6-4842-cfe6-2a532fd52102"
      },
      "execution_count": null,
      "outputs": [
        {
          "output_type": "execute_result",
          "data": {
            "text/plain": [
              "'I am Logesh M'"
            ],
            "application/vnd.google.colaboratory.intrinsic+json": {
              "type": "string"
            }
          },
          "metadata": {},
          "execution_count": 55
        }
      ]
    },
    {
      "cell_type": "markdown",
      "source": [
        "**50. Convert a CSV string to a list of lists.**"
      ],
      "metadata": {
        "id": "HPIccrf8gx0m"
      }
    },
    {
      "cell_type": "code",
      "source": [
        "csv_data = \"\"\"Name,Age,City\n",
        "Alice,25,New York\n",
        "Bob,30,Los Angeles\n",
        "Charlie,28,Chicago\"\"\"\n",
        "\n",
        "rows = []\n",
        "for line in csv_data.strip().split('\\n'):\n",
        "  row = line.split(',')\n",
        "  rows.append(row)\n",
        "print(rows)"
      ],
      "metadata": {
        "colab": {
          "base_uri": "https://localhost:8080/"
        },
        "id": "1ZFF3M6ucT6v",
        "outputId": "ca47d749-70fb-478e-e859-6e2d445eb2ed"
      },
      "execution_count": null,
      "outputs": [
        {
          "output_type": "stream",
          "name": "stdout",
          "text": [
            "[['Name', 'Age', 'City'], ['Alice', '25', 'New York'], ['Bob', '30', 'Los Angeles'], ['Charlie', '28', 'Chicago']]\n"
          ]
        }
      ]
    },
    {
      "cell_type": "markdown",
      "source": [
        "# **List Based Practice Problem**"
      ],
      "metadata": {
        "id": "XSM5fsHkhGlm"
      }
    },
    {
      "cell_type": "markdown",
      "source": [
        "**1. Create a list with integers from 1 to 10.**"
      ],
      "metadata": {
        "id": "AY1LDsMphTcB"
      }
    },
    {
      "cell_type": "code",
      "source": [
        "l1 = list(range(1,11))\n",
        "l1"
      ],
      "metadata": {
        "colab": {
          "base_uri": "https://localhost:8080/"
        },
        "id": "TEuV3l5ThOrF",
        "outputId": "14e47429-f9e2-4493-a051-ba7eac772069"
      },
      "execution_count": null,
      "outputs": [
        {
          "output_type": "execute_result",
          "data": {
            "text/plain": [
              "[1, 2, 3, 4, 5, 6, 7, 8, 9, 10]"
            ]
          },
          "metadata": {},
          "execution_count": 57
        }
      ]
    },
    {
      "cell_type": "markdown",
      "source": [
        "**2. Find the length of a list without using the `len()` function.**"
      ],
      "metadata": {
        "id": "3QuKxfxBhkDQ"
      }
    },
    {
      "cell_type": "code",
      "source": [
        "length = 0\n",
        "for i in l1:\n",
        "  length += 1\n",
        "print(length)"
      ],
      "metadata": {
        "colab": {
          "base_uri": "https://localhost:8080/"
        },
        "id": "ls6ulL4RhjPQ",
        "outputId": "4988f277-047a-49a5-d31c-b52f9f7f5b4e"
      },
      "execution_count": null,
      "outputs": [
        {
          "output_type": "stream",
          "name": "stdout",
          "text": [
            "10\n"
          ]
        }
      ]
    },
    {
      "cell_type": "markdown",
      "source": [
        "**3. Append an element to the end of a list.**"
      ],
      "metadata": {
        "id": "vUI6q7bzh3bl"
      }
    },
    {
      "cell_type": "code",
      "source": [
        "l1.append(11)\n",
        "l1"
      ],
      "metadata": {
        "colab": {
          "base_uri": "https://localhost:8080/"
        },
        "id": "7KdFF7zahcDL",
        "outputId": "e2d9200d-216b-49af-c93f-51fdee35d319"
      },
      "execution_count": null,
      "outputs": [
        {
          "output_type": "execute_result",
          "data": {
            "text/plain": [
              "[1, 2, 3, 4, 5, 6, 7, 8, 9, 10, 11]"
            ]
          },
          "metadata": {},
          "execution_count": 59
        }
      ]
    },
    {
      "cell_type": "markdown",
      "source": [
        "**4. Insert an element at a specific index in a list.**"
      ],
      "metadata": {
        "id": "vZ2nKa9YiJwg"
      }
    },
    {
      "cell_type": "code",
      "source": [
        "l1.insert(0,0)\n",
        "l1"
      ],
      "metadata": {
        "colab": {
          "base_uri": "https://localhost:8080/"
        },
        "id": "TJinyzYnh9vq",
        "outputId": "00a368e8-0900-4075-ef6f-f69ab421be0f"
      },
      "execution_count": null,
      "outputs": [
        {
          "output_type": "execute_result",
          "data": {
            "text/plain": [
              "[0, 1, 2, 3, 4, 5, 6, 7, 8, 9, 10, 11]"
            ]
          },
          "metadata": {},
          "execution_count": 60
        }
      ]
    },
    {
      "cell_type": "markdown",
      "source": [
        "**5. Remove an element from a list by its value.**"
      ],
      "metadata": {
        "id": "apSFOz8RiSOy"
      }
    },
    {
      "cell_type": "code",
      "source": [
        "l1.remove(7)\n",
        "l1"
      ],
      "metadata": {
        "colab": {
          "base_uri": "https://localhost:8080/"
        },
        "id": "ByApPikPiPfR",
        "outputId": "49a14113-e8a9-41e0-9d16-c0898aaa68cf"
      },
      "execution_count": null,
      "outputs": [
        {
          "output_type": "execute_result",
          "data": {
            "text/plain": [
              "[0, 1, 2, 3, 4, 5, 6, 8, 9, 10, 11]"
            ]
          },
          "metadata": {},
          "execution_count": 61
        }
      ]
    },
    {
      "cell_type": "markdown",
      "source": [
        "**6. Remove an element from a list by its index.**"
      ],
      "metadata": {
        "id": "uvUB66lqilB1"
      }
    },
    {
      "cell_type": "code",
      "source": [
        "l1.pop(4)\n",
        "l1"
      ],
      "metadata": {
        "colab": {
          "base_uri": "https://localhost:8080/"
        },
        "id": "hgFjdgaoidlZ",
        "outputId": "67a345d5-905d-474f-8497-2793db704d31"
      },
      "execution_count": null,
      "outputs": [
        {
          "output_type": "execute_result",
          "data": {
            "text/plain": [
              "[0, 1, 2, 3, 5, 6, 8, 9, 10, 11]"
            ]
          },
          "metadata": {},
          "execution_count": 62
        }
      ]
    },
    {
      "cell_type": "markdown",
      "source": [
        "**7. Check if an element exists in a list.**"
      ],
      "metadata": {
        "id": "X2JNkgcOiqRD"
      }
    },
    {
      "cell_type": "code",
      "source": [
        "element = 5\n",
        "if element in l1:\n",
        "  print('Element exists')\n",
        "else:\n",
        "  print('Element does not exist')"
      ],
      "metadata": {
        "colab": {
          "base_uri": "https://localhost:8080/"
        },
        "id": "rfUaVS31iq2k",
        "outputId": "94ca20d4-a1db-4f57-c864-69b5e85d408e"
      },
      "execution_count": null,
      "outputs": [
        {
          "output_type": "stream",
          "name": "stdout",
          "text": [
            "Element exists\n"
          ]
        }
      ]
    },
    {
      "cell_type": "markdown",
      "source": [
        "**8. Find the index of the first occurrence of an element in a list.**"
      ],
      "metadata": {
        "id": "suE_nN3FjSBX"
      }
    },
    {
      "cell_type": "code",
      "source": [
        "l2 = [1,4,5,6,2,4,5,6,9,8,4,5]\n",
        "l2.index(4)"
      ],
      "metadata": {
        "colab": {
          "base_uri": "https://localhost:8080/"
        },
        "id": "Qr3cWJ6AjDRp",
        "outputId": "b85280c5-c7a5-4d26-c188-d02c45be3f4b"
      },
      "execution_count": null,
      "outputs": [
        {
          "output_type": "execute_result",
          "data": {
            "text/plain": [
              "1"
            ]
          },
          "metadata": {},
          "execution_count": 64
        }
      ]
    },
    {
      "cell_type": "markdown",
      "source": [
        "**9. Count the occurrences of an element in a list.**"
      ],
      "metadata": {
        "id": "iJzkwFU4DDna"
      }
    },
    {
      "cell_type": "code",
      "source": [
        "l2.count(6)"
      ],
      "metadata": {
        "colab": {
          "base_uri": "https://localhost:8080/"
        },
        "id": "fC5vNK23DCqh",
        "outputId": "2bae79ad-09a4-4f6d-ee43-173eeaff5237"
      },
      "execution_count": null,
      "outputs": [
        {
          "output_type": "execute_result",
          "data": {
            "text/plain": [
              "2"
            ]
          },
          "metadata": {},
          "execution_count": 65
        }
      ]
    },
    {
      "cell_type": "markdown",
      "source": [
        "**10. Reverse the order of elements in a list.**"
      ],
      "metadata": {
        "id": "1eVioc-qLDbQ"
      }
    },
    {
      "cell_type": "code",
      "source": [
        "l2.reverse()\n",
        "l2"
      ],
      "metadata": {
        "colab": {
          "base_uri": "https://localhost:8080/"
        },
        "id": "o1yfPAjJLBXi",
        "outputId": "12232894-c6fa-42cb-da65-08b9a2dbb06a"
      },
      "execution_count": null,
      "outputs": [
        {
          "output_type": "execute_result",
          "data": {
            "text/plain": [
              "[5, 4, 8, 9, 6, 5, 4, 2, 6, 5, 4, 1]"
            ]
          },
          "metadata": {},
          "execution_count": 66
        }
      ]
    },
    {
      "cell_type": "markdown",
      "source": [
        "**11. Sort a list in ascending order.**"
      ],
      "metadata": {
        "id": "RIATHhtkLxXF"
      }
    },
    {
      "cell_type": "code",
      "source": [
        "l2.sort()\n",
        "l2"
      ],
      "metadata": {
        "colab": {
          "base_uri": "https://localhost:8080/"
        },
        "id": "W1IoA4GMLLXX",
        "outputId": "df3449e9-c9e2-4d52-e343-0b5470ffb39e"
      },
      "execution_count": null,
      "outputs": [
        {
          "output_type": "execute_result",
          "data": {
            "text/plain": [
              "[1, 2, 4, 4, 4, 5, 5, 5, 6, 6, 8, 9]"
            ]
          },
          "metadata": {},
          "execution_count": 67
        }
      ]
    },
    {
      "cell_type": "markdown",
      "source": [
        "**12. Sort a list in descending order.**"
      ],
      "metadata": {
        "id": "UL17EOGLMK0J"
      }
    },
    {
      "cell_type": "code",
      "source": [
        "l2.sort(reverse=True)\n",
        "l2"
      ],
      "metadata": {
        "colab": {
          "base_uri": "https://localhost:8080/"
        },
        "id": "QY1qVpOELntx",
        "outputId": "d0c97579-b26e-4cb9-a471-4fe55e18ae7a"
      },
      "execution_count": null,
      "outputs": [
        {
          "output_type": "execute_result",
          "data": {
            "text/plain": [
              "[9, 8, 6, 6, 5, 5, 5, 4, 4, 4, 2, 1]"
            ]
          },
          "metadata": {},
          "execution_count": 68
        }
      ]
    },
    {
      "cell_type": "markdown",
      "source": [
        "**13. Create a list of even numbers from 1 to 20.**"
      ],
      "metadata": {
        "id": "M3tsloLJMTKb"
      }
    },
    {
      "cell_type": "code",
      "source": [
        "l3 = list(range(0,21,2))\n",
        "l3"
      ],
      "metadata": {
        "colab": {
          "base_uri": "https://localhost:8080/"
        },
        "id": "LhOmxpbYMOl5",
        "outputId": "9da321a8-04bd-48ba-d0f5-92f7b3e051fd"
      },
      "execution_count": null,
      "outputs": [
        {
          "output_type": "execute_result",
          "data": {
            "text/plain": [
              "[0, 2, 4, 6, 8, 10, 12, 14, 16, 18, 20]"
            ]
          },
          "metadata": {},
          "execution_count": 69
        }
      ]
    },
    {
      "cell_type": "markdown",
      "source": [
        "**14. Create a list of odd numbers from 1 to 20.**"
      ],
      "metadata": {
        "id": "Cc3EYiQIMido"
      }
    },
    {
      "cell_type": "code",
      "source": [
        "l4 = list(range(1,20,2))\n",
        "l4"
      ],
      "metadata": {
        "colab": {
          "base_uri": "https://localhost:8080/"
        },
        "id": "qcyEl2VRMavc",
        "outputId": "a71280d0-b26b-43cf-ef2b-4456d8ea4c7d"
      },
      "execution_count": null,
      "outputs": [
        {
          "output_type": "execute_result",
          "data": {
            "text/plain": [
              "[1, 3, 5, 7, 9, 11, 13, 15, 17, 19]"
            ]
          },
          "metadata": {},
          "execution_count": 70
        }
      ]
    },
    {
      "cell_type": "markdown",
      "source": [
        "**15. Find the sum of all elements in a list.**"
      ],
      "metadata": {
        "id": "jUXpAV8iMqS3"
      }
    },
    {
      "cell_type": "code",
      "source": [
        "Sum = sum(l4)\n",
        "Sum"
      ],
      "metadata": {
        "colab": {
          "base_uri": "https://localhost:8080/"
        },
        "id": "tai0_Ie0Ml8a",
        "outputId": "cb7a38db-22c9-476e-eaf4-8148cd567a92"
      },
      "execution_count": null,
      "outputs": [
        {
          "output_type": "execute_result",
          "data": {
            "text/plain": [
              "100"
            ]
          },
          "metadata": {},
          "execution_count": 71
        }
      ]
    },
    {
      "cell_type": "markdown",
      "source": [
        "**16. Find the maximum value in a list.**"
      ],
      "metadata": {
        "id": "XXsBurEfNC4d"
      }
    },
    {
      "cell_type": "code",
      "source": [
        "maximum = max(l4)\n",
        "maximum"
      ],
      "metadata": {
        "colab": {
          "base_uri": "https://localhost:8080/"
        },
        "id": "iuCSrx91MzIK",
        "outputId": "3a5f8c80-b1d9-4f94-e42a-b59718648859"
      },
      "execution_count": null,
      "outputs": [
        {
          "output_type": "execute_result",
          "data": {
            "text/plain": [
              "19"
            ]
          },
          "metadata": {},
          "execution_count": 104
        }
      ]
    },
    {
      "cell_type": "markdown",
      "source": [
        "**17. Find the minimum value in a list.**"
      ],
      "metadata": {
        "id": "DB_bsdkvNIuw"
      }
    },
    {
      "cell_type": "code",
      "source": [
        "minimum = min(l4)\n",
        "minimum"
      ],
      "metadata": {
        "colab": {
          "base_uri": "https://localhost:8080/"
        },
        "id": "NI-whAuDNG79",
        "outputId": "07062f3a-4212-4d5b-fa0c-f8fc377bfc52"
      },
      "execution_count": null,
      "outputs": [
        {
          "output_type": "execute_result",
          "data": {
            "text/plain": [
              "1"
            ]
          },
          "metadata": {},
          "execution_count": 72
        }
      ]
    },
    {
      "cell_type": "markdown",
      "source": [
        "**18. Create a list of squares of numbers from 1 to 10.**"
      ],
      "metadata": {
        "id": "qrp61bcPNPpk"
      }
    },
    {
      "cell_type": "code",
      "source": [
        "l5 = []\n",
        "for i in range(1,11):\n",
        "  l5.append(i**2)\n",
        "print(l5)"
      ],
      "metadata": {
        "colab": {
          "base_uri": "https://localhost:8080/"
        },
        "id": "uvYzpFdWNM12",
        "outputId": "a2e47877-667b-40ed-b7f0-e473bf48f331"
      },
      "execution_count": null,
      "outputs": [
        {
          "output_type": "stream",
          "name": "stdout",
          "text": [
            "[1, 4, 9, 16, 25, 36, 49, 64, 81, 100]\n"
          ]
        }
      ]
    },
    {
      "cell_type": "markdown",
      "source": [
        "**19. Create a list of random numbers.**"
      ],
      "metadata": {
        "id": "9OuSlCXoNjun"
      }
    },
    {
      "cell_type": "code",
      "source": [
        "l5 = []\n",
        "import random\n",
        "for i in range(10):\n",
        "  l5.append(random.randint(1,100))\n",
        "print(l5)"
      ],
      "metadata": {
        "colab": {
          "base_uri": "https://localhost:8080/"
        },
        "id": "L1mFgTODNf4q",
        "outputId": "e9b85335-ae92-45e7-eb26-050f90b24fb6"
      },
      "execution_count": null,
      "outputs": [
        {
          "output_type": "stream",
          "name": "stdout",
          "text": [
            "[90, 17, 27, 57, 93, 90, 21, 90, 71, 17]\n"
          ]
        }
      ]
    },
    {
      "cell_type": "markdown",
      "source": [
        "**20. Remove duplicates from a list.**"
      ],
      "metadata": {
        "id": "BgU2AOqmOMPb"
      }
    },
    {
      "cell_type": "code",
      "source": [
        "l6 = [2,3,4,2,21,43,32,3,2,44,43]\n",
        "l6 = list(set(l6))\n",
        "l6"
      ],
      "metadata": {
        "colab": {
          "base_uri": "https://localhost:8080/"
        },
        "id": "BKQnmUaeOCkt",
        "outputId": "8ae5a928-d5cc-43fc-e413-901969cf8636"
      },
      "execution_count": null,
      "outputs": [
        {
          "output_type": "execute_result",
          "data": {
            "text/plain": [
              "[32, 2, 3, 4, 43, 44, 21]"
            ]
          },
          "metadata": {},
          "execution_count": 75
        }
      ]
    },
    {
      "cell_type": "markdown",
      "source": [
        "**21. Find the common elements between two lists.**"
      ],
      "metadata": {
        "id": "mLZeaoFiOv4K"
      }
    },
    {
      "cell_type": "code",
      "source": [
        "l7 = [1, 2, 3, 4, 5]\n",
        "l8 = [3, 5, 6, 7, 8]\n",
        "\n",
        "common_elements = []\n",
        "for element in l7:\n",
        "  if element in l8:\n",
        "    common_elements.append(element)\n",
        "\n",
        "print(common_elements)\n"
      ],
      "metadata": {
        "colab": {
          "base_uri": "https://localhost:8080/"
        },
        "id": "2ZQ8OsL_OZAX",
        "outputId": "635ae042-b2e7-473f-8a1e-a880e80427da"
      },
      "execution_count": null,
      "outputs": [
        {
          "output_type": "stream",
          "name": "stdout",
          "text": [
            "[3, 5]\n"
          ]
        }
      ]
    },
    {
      "cell_type": "markdown",
      "source": [
        "**22. Find the difference between two lists.**"
      ],
      "metadata": {
        "id": "hbu7QntTPLRj"
      }
    },
    {
      "cell_type": "code",
      "source": [
        "difference = []\n",
        "for element in l7:\n",
        "  if element not in l8:\n",
        "    difference.append(element)\n",
        "for element in l8:\n",
        "  if element not in l7:\n",
        "    difference.append(element)\n",
        "print(difference)"
      ],
      "metadata": {
        "colab": {
          "base_uri": "https://localhost:8080/"
        },
        "id": "gkR7nOdlPRqM",
        "outputId": "84ebce76-14b0-48cc-8d79-c59b90949cf4"
      },
      "execution_count": null,
      "outputs": [
        {
          "output_type": "stream",
          "name": "stdout",
          "text": [
            "[1, 2, 4, 6, 7, 8]\n"
          ]
        }
      ]
    },
    {
      "cell_type": "markdown",
      "source": [
        "**23. Merge two lists.**"
      ],
      "metadata": {
        "id": "9zWDvh0ZPzoE"
      }
    },
    {
      "cell_type": "code",
      "source": [
        "l7.extend(l8)\n",
        "l7\n"
      ],
      "metadata": {
        "colab": {
          "base_uri": "https://localhost:8080/"
        },
        "id": "sVDhpGC2PoHo",
        "outputId": "65c2f8ee-8c87-406c-b620-7500f4717d19"
      },
      "execution_count": null,
      "outputs": [
        {
          "output_type": "execute_result",
          "data": {
            "text/plain": [
              "[1, 2, 3, 4, 5, 3, 5, 6, 7, 8]"
            ]
          },
          "metadata": {},
          "execution_count": 78
        }
      ]
    },
    {
      "cell_type": "markdown",
      "source": [
        "**24. Multiply all elements in a list by 2.**"
      ],
      "metadata": {
        "id": "NX6HEfjaQeWY"
      }
    },
    {
      "cell_type": "code",
      "source": [
        "l9 = [1, 2, 3, 4, 5]\n",
        "multiplied_list = [x * 2 for x in l9]\n",
        "print(multiplied_list)\n"
      ],
      "metadata": {
        "colab": {
          "base_uri": "https://localhost:8080/"
        },
        "id": "4ZD1lnfJP_yD",
        "outputId": "7536c017-00e5-4a4f-eeec-7818c34ca591"
      },
      "execution_count": null,
      "outputs": [
        {
          "output_type": "stream",
          "name": "stdout",
          "text": [
            "[2, 4, 6, 8, 10]\n"
          ]
        }
      ]
    },
    {
      "cell_type": "markdown",
      "source": [
        "**25. Filter out all even numbers from a list.**"
      ],
      "metadata": {
        "id": "Wfsf2lyEQjjT"
      }
    },
    {
      "cell_type": "code",
      "source": [
        "odd_numbers = [x for x in l9 if x%2 != 0]\n",
        "odd_numbers"
      ],
      "metadata": {
        "colab": {
          "base_uri": "https://localhost:8080/"
        },
        "id": "IdUSNa0OQglY",
        "outputId": "77304606-7ff3-4caf-d11d-b0daeef48806"
      },
      "execution_count": null,
      "outputs": [
        {
          "output_type": "execute_result",
          "data": {
            "text/plain": [
              "[1, 3, 5]"
            ]
          },
          "metadata": {},
          "execution_count": 80
        }
      ]
    },
    {
      "cell_type": "markdown",
      "source": [
        "**26. Convert a list of strings to a list of integers.**"
      ],
      "metadata": {
        "id": "eI2qg0AgRYOD"
      }
    },
    {
      "cell_type": "code",
      "source": [
        "l10 = ['1', '2', '3', '4', '5']\n",
        "int_list = [int(x) for x in l10]\n",
        "int_list"
      ],
      "metadata": {
        "colab": {
          "base_uri": "https://localhost:8080/"
        },
        "id": "KcfRaQfqQ6YJ",
        "outputId": "63395fb0-bb10-4f9a-9140-5d27dded3015"
      },
      "execution_count": null,
      "outputs": [
        {
          "output_type": "execute_result",
          "data": {
            "text/plain": [
              "[1, 2, 3, 4, 5]"
            ]
          },
          "metadata": {},
          "execution_count": 81
        }
      ]
    },
    {
      "cell_type": "markdown",
      "source": [
        "**27. Convert a list of integers to a list of strings.**"
      ],
      "metadata": {
        "id": "OHcM7fZ1RbA6"
      }
    },
    {
      "cell_type": "code",
      "source": [
        "l10 = [1, 2, 3, 4, 5]\n",
        "int_list = [str(x) for x in l10]\n",
        "int_list"
      ],
      "metadata": {
        "colab": {
          "base_uri": "https://localhost:8080/"
        },
        "id": "5I6CAaYwRKHG",
        "outputId": "d195c79d-e944-4f9e-f476-15f272a3ac40"
      },
      "execution_count": null,
      "outputs": [
        {
          "output_type": "execute_result",
          "data": {
            "text/plain": [
              "['1', '2', '3', '4', '5']"
            ]
          },
          "metadata": {},
          "execution_count": 82
        }
      ]
    },
    {
      "cell_type": "markdown",
      "source": [
        "**28. Flatten a nested list.**"
      ],
      "metadata": {
        "id": "pAyiSpXMR155"
      }
    },
    {
      "cell_type": "code",
      "source": [
        "def flatten_list(nested_list):\n",
        "  flat_list = []\n",
        "  for item in nested_list:\n",
        "    if isinstance(item, list):\n",
        "      flat_list.extend(flatten_list(item))\n",
        "    else:\n",
        "      flat_list.append(item)\n",
        "  return flat_list\n",
        "l11 = [1,2,3, [4, 5, 6], [7, 8, 9], [10, 11, 12]]\n",
        "print(flatten_list(l11))"
      ],
      "metadata": {
        "colab": {
          "base_uri": "https://localhost:8080/"
        },
        "id": "jwaTxHiNsHOi",
        "outputId": "2233807a-16ea-47ce-902e-afb377c5f72f"
      },
      "execution_count": null,
      "outputs": [
        {
          "output_type": "stream",
          "name": "stdout",
          "text": [
            "[1, 2, 3, 4, 5, 6, 7, 8, 9, 10, 11, 12]\n"
          ]
        }
      ]
    },
    {
      "cell_type": "markdown",
      "source": [
        "**29. Create a list of the first 10 Fibonacci numbers.**"
      ],
      "metadata": {
        "id": "tbH39PP1R5a7"
      }
    },
    {
      "cell_type": "code",
      "source": [
        "fib_numbers = []\n",
        "\n",
        "for i in range(10):\n",
        "  if i== 0:\n",
        "    fib_numbers.append(1)\n",
        "  elif i == 1:\n",
        "    fib_numbers.append(1)\n",
        "  else:\n",
        "    fib_numbers.append(fib_numbers[i-1] + fib_numbers[i-2])\n",
        "print(fib_numbers)"
      ],
      "metadata": {
        "id": "_IsjmPVUR8kC",
        "colab": {
          "base_uri": "https://localhost:8080/"
        },
        "outputId": "971432e9-3a25-42a2-db87-3b7b06c76f88"
      },
      "execution_count": null,
      "outputs": [
        {
          "output_type": "stream",
          "name": "stdout",
          "text": [
            "[1, 1, 2, 3, 5, 8, 13, 21, 34, 55]\n"
          ]
        }
      ]
    },
    {
      "cell_type": "markdown",
      "source": [
        "**30. Check if a list is sorted.**"
      ],
      "metadata": {
        "id": "pYE2uthFtU3F"
      }
    },
    {
      "cell_type": "code",
      "source": [
        "l11 = [1, 2, 4, 3, 5, 7, 9, 6, 8]\n",
        "for index in range(1, len(l11)):\n",
        "  num = l11[index]\n",
        "  if num < l11[index-1]:\n",
        "    print('list is not sorted')\n",
        "    break\n",
        "else:\n",
        "  print('list is sorted')"
      ],
      "metadata": {
        "colab": {
          "base_uri": "https://localhost:8080/"
        },
        "id": "F0RFx_eVtWGB",
        "outputId": "f535df22-6529-4597-f5ab-211540347103"
      },
      "execution_count": null,
      "outputs": [
        {
          "output_type": "stream",
          "name": "stdout",
          "text": [
            "list is not sorted\n"
          ]
        }
      ]
    },
    {
      "cell_type": "markdown",
      "source": [
        "**31. Rotate a list to the left by `n` positions.**"
      ],
      "metadata": {
        "id": "qXp9GXrYvp45"
      }
    },
    {
      "cell_type": "code",
      "source": [
        "n = 4\n",
        "l12 = [1,2,3,4,5,6,7,8,9,10]\n",
        "rotated_list = l12[n:] + l12[:n]\n",
        "rotated_list"
      ],
      "metadata": {
        "id": "jfoqVGCl3JKR",
        "colab": {
          "base_uri": "https://localhost:8080/"
        },
        "outputId": "9803c6e4-8de9-42f7-d051-b07b3d3137a2"
      },
      "execution_count": null,
      "outputs": [
        {
          "output_type": "execute_result",
          "data": {
            "text/plain": [
              "[5, 6, 7, 8, 9, 10, 1, 2, 3, 4]"
            ]
          },
          "metadata": {},
          "execution_count": 86
        }
      ]
    },
    {
      "cell_type": "markdown",
      "source": [
        "**32. Rotate a list to the right by `n` positions.**"
      ],
      "metadata": {
        "id": "UPa-evHkqcDy"
      }
    },
    {
      "cell_type": "code",
      "source": [
        "n = 4\n",
        "rotated_list2 = l12[-n:] + l12[:-n]\n",
        "rotated_list2"
      ],
      "metadata": {
        "colab": {
          "base_uri": "https://localhost:8080/"
        },
        "id": "AIT66wt1qHdN",
        "outputId": "8f79f5ac-2b04-4895-a933-a9abd419946c"
      },
      "execution_count": null,
      "outputs": [
        {
          "output_type": "execute_result",
          "data": {
            "text/plain": [
              "[7, 8, 9, 10, 1, 2, 3, 4, 5, 6]"
            ]
          },
          "metadata": {},
          "execution_count": 87
        }
      ]
    },
    {
      "cell_type": "markdown",
      "source": [
        "**33. Create a list of prime numbers up to 50.**"
      ],
      "metadata": {
        "id": "cxZdNoz0r4FR"
      }
    },
    {
      "cell_type": "code",
      "source": [
        "prime = []\n",
        "for i in range(2,51):\n",
        "  is_prime = True\n",
        "  for j in range(2,int(i*0.5)+1):\n",
        "    if i%j == 0:\n",
        "      is_prime = False\n",
        "      break\n",
        "  if is_prime:\n",
        "    prime.append(i)\n",
        "print(prime)"
      ],
      "metadata": {
        "colab": {
          "base_uri": "https://localhost:8080/"
        },
        "id": "lE5OlQd5odD4",
        "outputId": "30be3e6d-58bd-47ac-9adb-785e66b58383"
      },
      "execution_count": null,
      "outputs": [
        {
          "output_type": "stream",
          "name": "stdout",
          "text": [
            "[2, 3, 5, 7, 11, 13, 17, 19, 23, 29, 31, 37, 41, 43, 47]\n"
          ]
        }
      ]
    },
    {
      "cell_type": "markdown",
      "source": [
        "**34. Split a list into chunks of size `n`.**"
      ],
      "metadata": {
        "id": "9V6u-uuruYTr"
      }
    },
    {
      "cell_type": "code",
      "source": [
        "l13 = [1,2,3,4,5,6,7,8,9,10,11,12,13,14,15,16,17,18,19,20]\n",
        "n = 4\n",
        "Chunks = [l13[i:i+n] for i in range(0, len(l13), n)]\n",
        "Chunks"
      ],
      "metadata": {
        "colab": {
          "base_uri": "https://localhost:8080/"
        },
        "id": "bt59ZOJ7tkaN",
        "outputId": "61257dc6-c2a4-4e67-dfd7-06594a9ef4fa"
      },
      "execution_count": null,
      "outputs": [
        {
          "output_type": "execute_result",
          "data": {
            "text/plain": [
              "[[1, 2, 3, 4],\n",
              " [5, 6, 7, 8],\n",
              " [9, 10, 11, 12],\n",
              " [13, 14, 15, 16],\n",
              " [17, 18, 19, 20]]"
            ]
          },
          "metadata": {},
          "execution_count": 89
        }
      ]
    },
    {
      "cell_type": "markdown",
      "source": [
        "**35. Find the second largest number in a list.**"
      ],
      "metadata": {
        "id": "3nZn9-B_vWPc"
      }
    },
    {
      "cell_type": "code",
      "source": [
        "l14 = [1, 2, 4, 3, 7, 26, 23, 47, 25, 47, 58, 59]\n",
        "l14.sort(reverse = True)\n",
        "l14[1]"
      ],
      "metadata": {
        "colab": {
          "base_uri": "https://localhost:8080/"
        },
        "id": "ZITtlzcQuzOY",
        "outputId": "36bad104-2abb-4b38-d160-03791138bf8b"
      },
      "execution_count": null,
      "outputs": [
        {
          "output_type": "execute_result",
          "data": {
            "text/plain": [
              "58"
            ]
          },
          "metadata": {},
          "execution_count": 90
        }
      ]
    },
    {
      "cell_type": "markdown",
      "source": [
        "**36. Replace every element in a list with its square.**"
      ],
      "metadata": {
        "id": "6i1GgWXUwEM6"
      }
    },
    {
      "cell_type": "code",
      "source": [
        "l15 = [1, 2, 3, 5, 4, 8, 7, 6, 9, 15, 10, 11, 13, 12]\n",
        "l15 = [i**2 for i in l15]\n",
        "l15"
      ],
      "metadata": {
        "colab": {
          "base_uri": "https://localhost:8080/"
        },
        "id": "cY44mwE8v7Rj",
        "outputId": "6432dd47-7a3e-458c-f283-1e1b56ee9ab0"
      },
      "execution_count": null,
      "outputs": [
        {
          "output_type": "execute_result",
          "data": {
            "text/plain": [
              "[1, 4, 9, 25, 16, 64, 49, 36, 81, 225, 100, 121, 169, 144]"
            ]
          },
          "metadata": {},
          "execution_count": 91
        }
      ]
    },
    {
      "cell_type": "markdown",
      "source": [
        "**37. Convert a list to a dictionary where list elements become keys and their\n",
        "indices become values.**"
      ],
      "metadata": {
        "id": "jH-AgXuywpwE"
      }
    },
    {
      "cell_type": "code",
      "source": [
        "dictionary = {}\n",
        "for index, value in enumerate(l15):\n",
        "  dictionary[value] = index\n",
        "dictionary"
      ],
      "metadata": {
        "colab": {
          "base_uri": "https://localhost:8080/"
        },
        "id": "thmtEr5ewqVL",
        "outputId": "8e7b1eba-630a-4cff-e47c-0d6cf9c4de17"
      },
      "execution_count": null,
      "outputs": [
        {
          "output_type": "execute_result",
          "data": {
            "text/plain": [
              "{1: 0,\n",
              " 4: 1,\n",
              " 9: 2,\n",
              " 25: 3,\n",
              " 16: 4,\n",
              " 64: 5,\n",
              " 49: 6,\n",
              " 36: 7,\n",
              " 81: 8,\n",
              " 225: 9,\n",
              " 100: 10,\n",
              " 121: 11,\n",
              " 169: 12,\n",
              " 144: 13}"
            ]
          },
          "metadata": {},
          "execution_count": 92
        }
      ]
    },
    {
      "cell_type": "markdown",
      "source": [
        "**38. Shuffle the elements of a list randomly.**"
      ],
      "metadata": {
        "id": "q1fA0_VVwlMv"
      }
    },
    {
      "cell_type": "code",
      "source": [
        "import random\n",
        "\n",
        "l16 = [1, 2, 3, 4, 5, 6, 7, 8, 9, 10]\n",
        "random.shuffle(l16)\n",
        "print(l16)"
      ],
      "metadata": {
        "colab": {
          "base_uri": "https://localhost:8080/"
        },
        "id": "3fy2TUs83I_z",
        "outputId": "851db8ff-2dce-4401-c8a6-1b32f7c19a05"
      },
      "execution_count": null,
      "outputs": [
        {
          "output_type": "stream",
          "name": "stdout",
          "text": [
            "[5, 7, 2, 4, 8, 3, 1, 9, 10, 6]\n"
          ]
        }
      ]
    },
    {
      "cell_type": "markdown",
      "source": [
        "**39. Create a list of the first 10 factorial numbers.**"
      ],
      "metadata": {
        "id": "kt76jbm53WEM"
      }
    },
    {
      "cell_type": "code",
      "source": [
        "factorial_list = []\n",
        "for i in range(1,11):\n",
        "  for j in range(1,i+1):\n",
        "    if j == 1:\n",
        "      factorial = 1\n",
        "    else:\n",
        "      factorial *= j\n",
        "  factorial_list.append(factorial)\n",
        "print(factorial_list)"
      ],
      "metadata": {
        "colab": {
          "base_uri": "https://localhost:8080/"
        },
        "id": "gfMcf9J73T-f",
        "outputId": "96a3a9b9-926c-4d3e-a0e7-93f61862251e"
      },
      "execution_count": null,
      "outputs": [
        {
          "output_type": "stream",
          "name": "stdout",
          "text": [
            "[1, 2, 6, 24, 120, 720, 5040, 40320, 362880, 3628800]\n"
          ]
        }
      ]
    },
    {
      "cell_type": "markdown",
      "source": [
        "**40. Check if two lists have at least one element in common.**"
      ],
      "metadata": {
        "id": "l1GmydDH7nIO"
      }
    },
    {
      "cell_type": "code",
      "source": [
        "l17 = [1,2,6,8,9,3,5,4,10]\n",
        "for i in l15:\n",
        "  if i in l17:\n",
        "    print('Lists have at least one element in common')\n",
        "    break\n",
        "else:\n",
        "  print('Lists have no element in common')\n",
        "\n"
      ],
      "metadata": {
        "colab": {
          "base_uri": "https://localhost:8080/"
        },
        "id": "C9v3HcVw7mcF",
        "outputId": "f75804b8-ff26-4454-8762-62cfefa4872d"
      },
      "execution_count": null,
      "outputs": [
        {
          "output_type": "stream",
          "name": "stdout",
          "text": [
            "Lists have at least one element in common\n"
          ]
        }
      ]
    },
    {
      "cell_type": "markdown",
      "source": [
        "**41. Remove all elements from a list.**"
      ],
      "metadata": {
        "id": "TCP3Pf-o8I8k"
      }
    },
    {
      "cell_type": "code",
      "source": [
        "l17.clear()"
      ],
      "metadata": {
        "id": "3RGZEG5Z8Eg8"
      },
      "execution_count": null,
      "outputs": []
    },
    {
      "cell_type": "code",
      "source": [
        "l17"
      ],
      "metadata": {
        "colab": {
          "base_uri": "https://localhost:8080/"
        },
        "id": "m6SseDUl8Q1N",
        "outputId": "58332bd8-5cea-4cb6-a955-fb8cf141b94a"
      },
      "execution_count": null,
      "outputs": [
        {
          "output_type": "execute_result",
          "data": {
            "text/plain": [
              "[]"
            ]
          },
          "metadata": {},
          "execution_count": 97
        }
      ]
    },
    {
      "cell_type": "markdown",
      "source": [
        "**42. Replace negative numbers in a list with 0.**"
      ],
      "metadata": {
        "id": "1UHYTP5V8alC"
      }
    },
    {
      "cell_type": "code",
      "source": [
        "l18 = [1,-2,-5,-6,3,6,8]\n",
        "pos_list = [i if i>0 else 0 for i in l18]\n",
        "pos_list"
      ],
      "metadata": {
        "colab": {
          "base_uri": "https://localhost:8080/"
        },
        "id": "2uDuOxit8W6g",
        "outputId": "649f33df-06ff-4607-aa56-bbc386b56738"
      },
      "execution_count": null,
      "outputs": [
        {
          "output_type": "execute_result",
          "data": {
            "text/plain": [
              "[1, 0, 0, 0, 3, 6, 8]"
            ]
          },
          "metadata": {},
          "execution_count": 98
        }
      ]
    },
    {
      "cell_type": "markdown",
      "source": [
        "**43. Convert a string into a list of words.**"
      ],
      "metadata": {
        "id": "iQvEpWPV9qOE"
      }
    },
    {
      "cell_type": "code",
      "source": [
        "str_1 = 'I am Logesh'\n",
        "l19 = str_1.split()\n",
        "l19"
      ],
      "metadata": {
        "colab": {
          "base_uri": "https://localhost:8080/"
        },
        "id": "An-e8nrI8l2C",
        "outputId": "2cc403c5-64b3-49a0-e668-a7d3759e5f2d"
      },
      "execution_count": null,
      "outputs": [
        {
          "output_type": "execute_result",
          "data": {
            "text/plain": [
              "['I', 'am', 'Logesh']"
            ]
          },
          "metadata": {},
          "execution_count": 99
        }
      ]
    },
    {
      "cell_type": "markdown",
      "source": [
        "**44. Convert a list of words into a string.**"
      ],
      "metadata": {
        "id": "uV3ggrKN_TWr"
      }
    },
    {
      "cell_type": "code",
      "source": [
        "str_2 = ' '.join(l19)\n",
        "str_2"
      ],
      "metadata": {
        "colab": {
          "base_uri": "https://localhost:8080/",
          "height": 36
        },
        "id": "3RnId22r95ia",
        "outputId": "38f49115-042b-4f32-adc7-962fe0835359"
      },
      "execution_count": null,
      "outputs": [
        {
          "output_type": "execute_result",
          "data": {
            "text/plain": [
              "'I am Logesh'"
            ],
            "application/vnd.google.colaboratory.intrinsic+json": {
              "type": "string"
            }
          },
          "metadata": {},
          "execution_count": 103
        }
      ]
    },
    {
      "cell_type": "markdown",
      "source": [
        "**45. Create a list of the first `n` powers of 2.**"
      ],
      "metadata": {
        "id": "7ER-iBc6Bo-A"
      }
    },
    {
      "cell_type": "code",
      "source": [
        "n = 7\n",
        "l20 = []\n",
        "for i in range(1,n+1):\n",
        "  l20.append(2**i)\n",
        "print(l20)"
      ],
      "metadata": {
        "colab": {
          "base_uri": "https://localhost:8080/"
        },
        "id": "uwVLxOcN_irI",
        "outputId": "a7f3e2be-fb64-49a9-91cb-ee3c9bc33fcf"
      },
      "execution_count": null,
      "outputs": [
        {
          "output_type": "stream",
          "name": "stdout",
          "text": [
            "[2, 4, 8, 16, 32, 64, 128]\n"
          ]
        }
      ]
    },
    {
      "cell_type": "markdown",
      "source": [
        "**46. Find the longest string in a list of strings.**"
      ],
      "metadata": {
        "id": "-hEaY-Vg_CN1"
      }
    },
    {
      "cell_type": "code",
      "source": [
        "lstr = ['Logesh', 'India', 'Data Scientist', 'Machine Learning']\n",
        "long_str = ''\n",
        "for i in lstr:\n",
        "  if len(i) > len(long_str):\n",
        "    long_str = i\n",
        "print(long_str)"
      ],
      "metadata": {
        "colab": {
          "base_uri": "https://localhost:8080/"
        },
        "id": "4aYJTwA_Bi6H",
        "outputId": "8d06bdd5-08a9-4b5e-99e3-d9c4a3dcfb46"
      },
      "execution_count": null,
      "outputs": [
        {
          "output_type": "stream",
          "name": "stdout",
          "text": [
            "Machine Learning\n"
          ]
        }
      ]
    },
    {
      "cell_type": "markdown",
      "source": [
        "**47. Find the shortest string in a list of strings.**"
      ],
      "metadata": {
        "id": "j0NF1OUNAp5A"
      }
    },
    {
      "cell_type": "code",
      "source": [
        "lstr = ['Logesh', 'India', 'Data Scientist', 'Machine Learning']\n",
        "short_str = lstr[1]\n",
        "for word in lstr:\n",
        "  if len(word) < len(short_str):\n",
        "    short_str = word\n",
        "print(short_str)"
      ],
      "metadata": {
        "colab": {
          "base_uri": "https://localhost:8080/"
        },
        "id": "JANM4Z2UAeMl",
        "outputId": "9c31a8a4-4935-4c75-dd5a-cf78b3194b9e"
      },
      "execution_count": null,
      "outputs": [
        {
          "output_type": "stream",
          "name": "stdout",
          "text": [
            "India\n"
          ]
        }
      ]
    },
    {
      "cell_type": "markdown",
      "source": [
        "**48. Create a list of the first `n` triangular numbers.**"
      ],
      "metadata": {
        "id": "ftL7yzzKCMEm"
      }
    },
    {
      "cell_type": "code",
      "source": [
        "n = 12\n",
        "triangular_num = []\n",
        "for i in range(1, n+1):\n",
        "  triangular_num.append(i*(i+1)//2)\n",
        "triangular_num"
      ],
      "metadata": {
        "colab": {
          "base_uri": "https://localhost:8080/"
        },
        "id": "5P_jITZQCF1K",
        "outputId": "bf757c77-cdff-4b2e-8e08-fbe19fbdd06c"
      },
      "execution_count": null,
      "outputs": [
        {
          "output_type": "execute_result",
          "data": {
            "text/plain": [
              "[1, 3, 6, 10, 15, 21, 28, 36, 45, 55, 66, 78]"
            ]
          },
          "metadata": {},
          "execution_count": 41
        }
      ]
    },
    {
      "cell_type": "markdown",
      "source": [
        "**49. Check if a list contains another list as a subsequence.**"
      ],
      "metadata": {
        "id": "6Z8fFLdsHqKC"
      }
    },
    {
      "cell_type": "code",
      "source": [
        "main_list = [1,2,3,4,5,6,7,8,9,10]\n",
        "sub_list = [3,4,5]\n",
        "i, j = 0,0\n",
        "while i< len(main_list) and j < len(sub_list):\n",
        "  if main_list[i] == sub_list[j]:\n",
        "    j+=1\n",
        "  i+=1\n",
        "if j == len(sub_list):\n",
        "  print('Sublist is a subsequence')\n",
        "else:\n",
        "  print('Sublist is not a subsequence')"
      ],
      "metadata": {
        "colab": {
          "base_uri": "https://localhost:8080/"
        },
        "id": "3V9GCSmrCZxB",
        "outputId": "404dcb13-f26a-494c-f856-1446852b9fd1"
      },
      "execution_count": null,
      "outputs": [
        {
          "output_type": "stream",
          "name": "stdout",
          "text": [
            "Sublist is a subsequence\n"
          ]
        }
      ]
    },
    {
      "cell_type": "markdown",
      "source": [
        "**50. Swap two elements in a list by their indices.**"
      ],
      "metadata": {
        "id": "2Q367YqdLlUx"
      }
    },
    {
      "cell_type": "code",
      "source": [
        "swap_index = [1, 3]\n",
        "l21 = [1,2,3,4,5,6,7]\n",
        "l21[swap_index[0]],l21[swap_index[1]] = l21[swap_index[1]],l21[swap_index[0]]\n",
        "l21"
      ],
      "metadata": {
        "colab": {
          "base_uri": "https://localhost:8080/"
        },
        "id": "IoVz-qaLImcN",
        "outputId": "6a01ec0c-8bef-450d-d772-9e6d4dd80deb"
      },
      "execution_count": null,
      "outputs": [
        {
          "output_type": "execute_result",
          "data": {
            "text/plain": [
              "[1, 4, 3, 2, 5, 6, 7]"
            ]
          },
          "metadata": {},
          "execution_count": 2
        }
      ]
    },
    {
      "cell_type": "markdown",
      "source": [
        "# Tuple Based Practice Problem"
      ],
      "metadata": {
        "id": "7WEIjBBLUJYQ"
      }
    },
    {
      "cell_type": "markdown",
      "source": [
        "**1. Create a tuple with integers from 1 to 5.**"
      ],
      "metadata": {
        "id": "zilvO6KIUW33"
      }
    },
    {
      "cell_type": "code",
      "source": [
        "t1 = tuple(range(1,6))\n",
        "t1"
      ],
      "metadata": {
        "id": "te5MicEXOQQp",
        "colab": {
          "base_uri": "https://localhost:8080/"
        },
        "outputId": "b235b5d6-218f-41f6-c972-4cc4534b8c49"
      },
      "execution_count": null,
      "outputs": [
        {
          "output_type": "execute_result",
          "data": {
            "text/plain": [
              "(1, 2, 3, 4, 5)"
            ]
          },
          "metadata": {},
          "execution_count": 5
        }
      ]
    },
    {
      "cell_type": "markdown",
      "source": [
        "**2. Access the third element of a tuple.**"
      ],
      "metadata": {
        "id": "AFH29ffCUnkR"
      }
    },
    {
      "cell_type": "code",
      "source": [
        "t1[3]"
      ],
      "metadata": {
        "colab": {
          "base_uri": "https://localhost:8080/"
        },
        "id": "K0DZYuojUgSZ",
        "outputId": "8198437d-186b-4a13-de7d-50bcb269ea9b"
      },
      "execution_count": null,
      "outputs": [
        {
          "output_type": "execute_result",
          "data": {
            "text/plain": [
              "4"
            ]
          },
          "metadata": {},
          "execution_count": 3
        }
      ]
    },
    {
      "cell_type": "markdown",
      "source": [
        "**3. Find the length of a tuple without using the `len()` function.**"
      ],
      "metadata": {
        "id": "c1emhXhdUyv5"
      }
    },
    {
      "cell_type": "code",
      "source": [
        "length = t1.index(t1[-1]) + 1\n",
        "length"
      ],
      "metadata": {
        "colab": {
          "base_uri": "https://localhost:8080/"
        },
        "id": "6jM1fsXlUucN",
        "outputId": "4f82c451-e6d7-45b7-f7cc-7c446f35fe03"
      },
      "execution_count": null,
      "outputs": [
        {
          "output_type": "execute_result",
          "data": {
            "text/plain": [
              "5"
            ]
          },
          "metadata": {},
          "execution_count": 4
        }
      ]
    },
    {
      "cell_type": "markdown",
      "source": [
        "**4. Count the occurrences of an element in a tuple.**"
      ],
      "metadata": {
        "id": "AbiDaz6nVLs5"
      }
    },
    {
      "cell_type": "code",
      "source": [
        "t1.count(3)"
      ],
      "metadata": {
        "colab": {
          "base_uri": "https://localhost:8080/"
        },
        "id": "I6DYiWUGU-8M",
        "outputId": "cd440ccc-4584-4bed-9e09-1f194f61c03d"
      },
      "execution_count": null,
      "outputs": [
        {
          "output_type": "execute_result",
          "data": {
            "text/plain": [
              "1"
            ]
          },
          "metadata": {},
          "execution_count": 5
        }
      ]
    },
    {
      "cell_type": "markdown",
      "source": [
        "**5. Find the index of the first occurrence of an element in a tuple.**"
      ],
      "metadata": {
        "id": "xRvBVe1xVd0F"
      }
    },
    {
      "cell_type": "code",
      "source": [
        "t1.index(4)"
      ],
      "metadata": {
        "colab": {
          "base_uri": "https://localhost:8080/"
        },
        "id": "swMnpN65VZrV",
        "outputId": "343f6548-a547-44e5-f2ab-e8c8dff2d7ee"
      },
      "execution_count": null,
      "outputs": [
        {
          "output_type": "execute_result",
          "data": {
            "text/plain": [
              "3"
            ]
          },
          "metadata": {},
          "execution_count": 6
        }
      ]
    },
    {
      "cell_type": "markdown",
      "source": [
        "**6. Check if an element exists in a tuple.**"
      ],
      "metadata": {
        "id": "sEnOCKnMWsqU"
      }
    },
    {
      "cell_type": "code",
      "source": [
        "if 7 in t1:\n",
        "  print(\"Element exists\")\n",
        "else:\n",
        "  print(\"Element does not exist\")"
      ],
      "metadata": {
        "colab": {
          "base_uri": "https://localhost:8080/"
        },
        "id": "EUIUHgcuWhzn",
        "outputId": "019ad967-c387-4fa2-e4be-5feaa7fd95cd"
      },
      "execution_count": null,
      "outputs": [
        {
          "output_type": "stream",
          "name": "stdout",
          "text": [
            "Element does not exist\n"
          ]
        }
      ]
    },
    {
      "cell_type": "markdown",
      "source": [
        "**7. Convert a tuple to a list.**"
      ],
      "metadata": {
        "id": "0X1epeZQtNtF"
      }
    },
    {
      "cell_type": "code",
      "source": [
        "l22 = list(t1)\n",
        "l22"
      ],
      "metadata": {
        "id": "kxPSFriwWymw",
        "colab": {
          "base_uri": "https://localhost:8080/"
        },
        "outputId": "317e9a60-ece0-4a3d-f829-8c771be73f99"
      },
      "execution_count": null,
      "outputs": [
        {
          "output_type": "execute_result",
          "data": {
            "text/plain": [
              "[1, 2, 3, 4, 5]"
            ]
          },
          "metadata": {},
          "execution_count": 6
        }
      ]
    },
    {
      "cell_type": "markdown",
      "source": [
        "**8. Convert a list to a tuple.**"
      ],
      "metadata": {
        "id": "c903bIK9tZeI"
      }
    },
    {
      "cell_type": "code",
      "source": [
        "t2 = tuple(l22)\n",
        "t2"
      ],
      "metadata": {
        "colab": {
          "base_uri": "https://localhost:8080/"
        },
        "id": "HnZgO8zWtVVE",
        "outputId": "67ec6947-aab4-4776-f689-d8b29a0303e4"
      },
      "execution_count": null,
      "outputs": [
        {
          "output_type": "execute_result",
          "data": {
            "text/plain": [
              "(1, 2, 3, 4, 5)"
            ]
          },
          "metadata": {},
          "execution_count": 7
        }
      ]
    },
    {
      "cell_type": "markdown",
      "source": [
        "**9. Unpack the elements of a tuple into variables.**"
      ],
      "metadata": {
        "id": "THWfHW77toRu"
      }
    },
    {
      "cell_type": "code",
      "source": [
        "a, b, c, d, e = t2\n",
        "print(f\"a = {a}, b = {b}, c = {c}, d = {d}, e = {e}\")"
      ],
      "metadata": {
        "colab": {
          "base_uri": "https://localhost:8080/"
        },
        "id": "6snJSyzxtiq6",
        "outputId": "1dbf57f1-ce11-4486-9480-e447b8d39fa2"
      },
      "execution_count": null,
      "outputs": [
        {
          "output_type": "stream",
          "name": "stdout",
          "text": [
            "a = 1, b = 2, c = 3, d = 4, e = 5\n"
          ]
        }
      ]
    },
    {
      "cell_type": "markdown",
      "source": [
        "**10. Create a tuple of even numbers from 1 to 10.**"
      ],
      "metadata": {
        "id": "8oPNffPVuN47"
      }
    },
    {
      "cell_type": "code",
      "source": [
        "t3 = tuple(range(2, 11, 2))\n",
        "t3"
      ],
      "metadata": {
        "colab": {
          "base_uri": "https://localhost:8080/"
        },
        "id": "2OZswab-twUe",
        "outputId": "346f06f3-fbdb-4851-c5ca-a5e2c30c2b51"
      },
      "execution_count": null,
      "outputs": [
        {
          "output_type": "execute_result",
          "data": {
            "text/plain": [
              "(2, 4, 6, 8, 10)"
            ]
          },
          "metadata": {},
          "execution_count": 8
        }
      ]
    },
    {
      "cell_type": "markdown",
      "source": [
        "**11. Create a tuple of odd numbers from 1 to 10.**"
      ],
      "metadata": {
        "id": "yV8XLaMVueYx"
      }
    },
    {
      "cell_type": "code",
      "source": [
        "t4 = tuple(range(1, 11, 2))\n",
        "t4"
      ],
      "metadata": {
        "colab": {
          "base_uri": "https://localhost:8080/"
        },
        "id": "pRywxHOXtxj9",
        "outputId": "38777813-4946-4426-9b7e-5d37ccf6a04c"
      },
      "execution_count": null,
      "outputs": [
        {
          "output_type": "execute_result",
          "data": {
            "text/plain": [
              "(1, 3, 5, 7, 9)"
            ]
          },
          "metadata": {},
          "execution_count": 9
        }
      ]
    },
    {
      "cell_type": "markdown",
      "source": [
        "**12. Concatenate two tuples.**"
      ],
      "metadata": {
        "id": "CQV9MJx1urcK"
      }
    },
    {
      "cell_type": "code",
      "source": [
        "t5 = t3 + t4\n",
        "t5"
      ],
      "metadata": {
        "colab": {
          "base_uri": "https://localhost:8080/"
        },
        "id": "il8dRQm7ulHJ",
        "outputId": "f6c2c56b-2ffc-4412-f27b-916f65fc7041"
      },
      "execution_count": null,
      "outputs": [
        {
          "output_type": "execute_result",
          "data": {
            "text/plain": [
              "(2, 4, 6, 8, 10, 1, 3, 5, 7, 9)"
            ]
          },
          "metadata": {},
          "execution_count": 10
        }
      ]
    },
    {
      "cell_type": "markdown",
      "source": [
        "**13. Repeat a tuple three times.**"
      ],
      "metadata": {
        "id": "9kI6xzJ9vI_G"
      }
    },
    {
      "cell_type": "code",
      "source": [
        "t6 = t3*3\n",
        "t6"
      ],
      "metadata": {
        "colab": {
          "base_uri": "https://localhost:8080/"
        },
        "id": "J6eKcifguw4v",
        "outputId": "50086e1e-231b-494c-ebb0-2d30a10a1766"
      },
      "execution_count": null,
      "outputs": [
        {
          "output_type": "execute_result",
          "data": {
            "text/plain": [
              "(2, 4, 6, 8, 10, 2, 4, 6, 8, 10, 2, 4, 6, 8, 10)"
            ]
          },
          "metadata": {},
          "execution_count": 22
        }
      ]
    },
    {
      "cell_type": "markdown",
      "source": [
        "**14. Check if a tuple is empty.**"
      ],
      "metadata": {
        "id": "a3kGOkVBvFCm"
      }
    },
    {
      "cell_type": "code",
      "source": [
        "if len(t6) == 0:\n",
        "  print('Tuple is empty')\n",
        "else:\n",
        "  print('Tuple is not empty')"
      ],
      "metadata": {
        "colab": {
          "base_uri": "https://localhost:8080/"
        },
        "id": "dApz3PH6u3sh",
        "outputId": "c7ecb1c7-ac17-4593-b997-f98a2de8c034"
      },
      "execution_count": null,
      "outputs": [
        {
          "output_type": "stream",
          "name": "stdout",
          "text": [
            "Tuple is not empty\n"
          ]
        }
      ]
    },
    {
      "cell_type": "markdown",
      "source": [
        "**15. Create a nested tuple.**"
      ],
      "metadata": {
        "id": "70XdHl-ivpLo"
      }
    },
    {
      "cell_type": "code",
      "source": [
        "t7 = (t4,t5)\n",
        "t7"
      ],
      "metadata": {
        "colab": {
          "base_uri": "https://localhost:8080/"
        },
        "id": "P7PU2RtWvl5_",
        "outputId": "abb5c34d-6320-46fa-fc1e-e6be0b2be882"
      },
      "execution_count": null,
      "outputs": [
        {
          "output_type": "execute_result",
          "data": {
            "text/plain": [
              "((1, 3, 5, 7, 9), (2, 4, 6, 8, 10, 1, 3, 5, 7, 9))"
            ]
          },
          "metadata": {},
          "execution_count": 25
        }
      ]
    },
    {
      "cell_type": "markdown",
      "source": [
        "**16. Access the first element of a nested tuple.**"
      ],
      "metadata": {
        "id": "TEnmKrnbwb4Z"
      }
    },
    {
      "cell_type": "code",
      "source": [
        "t7[0][0]"
      ],
      "metadata": {
        "colab": {
          "base_uri": "https://localhost:8080/"
        },
        "id": "TkMnJ2FFwfUe",
        "outputId": "272beda3-a743-4505-e902-39092ea013e2"
      },
      "execution_count": null,
      "outputs": [
        {
          "output_type": "execute_result",
          "data": {
            "text/plain": [
              "1"
            ]
          },
          "metadata": {},
          "execution_count": 27
        }
      ]
    },
    {
      "cell_type": "markdown",
      "source": [
        "**17. Create a tuple with a single element.**"
      ],
      "metadata": {
        "id": "uPRPxX918zt7"
      }
    },
    {
      "cell_type": "code",
      "source": [
        "t8 = (4,)\n",
        "t8"
      ],
      "metadata": {
        "colab": {
          "base_uri": "https://localhost:8080/"
        },
        "id": "Y9dqtA60wprF",
        "outputId": "7c9906d5-721a-4583-8c9a-30e6e5a4c63d"
      },
      "execution_count": null,
      "outputs": [
        {
          "output_type": "execute_result",
          "data": {
            "text/plain": [
              "(4,)"
            ]
          },
          "metadata": {},
          "execution_count": 31
        }
      ]
    },
    {
      "cell_type": "markdown",
      "source": [
        "**18. Compare two tuples.**"
      ],
      "metadata": {
        "id": "Msg4iAyj82ni"
      }
    },
    {
      "cell_type": "code",
      "source": [
        "# prompt: 18. Compare two tuples.\n",
        "\n",
        "t9 = (1, 3, 3)\n",
        "t10 = (1, 2, 4)\n",
        "\n",
        "if t9 < t10:\n",
        "  print(\"t9 is less than t10\")\n",
        "elif t9 > t10:\n",
        "  print(\"t9 is greater than t10\")\n",
        "else:\n",
        "  print(\"t9 is equal to t10\")\n"
      ],
      "metadata": {
        "colab": {
          "base_uri": "https://localhost:8080/"
        },
        "id": "TsgnrXNFww_0",
        "outputId": "92b58515-418d-4293-df73-70b441b7c876"
      },
      "execution_count": null,
      "outputs": [
        {
          "output_type": "stream",
          "name": "stdout",
          "text": [
            "t9 is greater than t10\n"
          ]
        }
      ]
    },
    {
      "cell_type": "markdown",
      "source": [
        "**19. Delete a tuple.**"
      ],
      "metadata": {
        "id": "ZrvGewI0T0hn"
      }
    },
    {
      "cell_type": "code",
      "source": [
        "del t9"
      ],
      "metadata": {
        "id": "hUHsfFT79bPt"
      },
      "execution_count": null,
      "outputs": []
    },
    {
      "cell_type": "markdown",
      "source": [
        "**20. Slice a tuple.**"
      ],
      "metadata": {
        "id": "hrC2K5VeT_yv"
      }
    },
    {
      "cell_type": "code",
      "source": [
        "t4[2:5]"
      ],
      "metadata": {
        "id": "BwGXKwXHTwQU",
        "colab": {
          "base_uri": "https://localhost:8080/"
        },
        "outputId": "5157c2e2-f0c3-4011-9fdf-c5d4855fc8ed"
      },
      "execution_count": null,
      "outputs": [
        {
          "output_type": "execute_result",
          "data": {
            "text/plain": [
              "(5, 7, 9)"
            ]
          },
          "metadata": {},
          "execution_count": 11
        }
      ]
    },
    {
      "cell_type": "markdown",
      "source": [
        "**21. Find the maximum value in a tuple.**"
      ],
      "metadata": {
        "id": "rPi161Z2VAar"
      }
    },
    {
      "cell_type": "code",
      "source": [
        "max(t4)"
      ],
      "metadata": {
        "id": "7UqYnhy1UEYl",
        "colab": {
          "base_uri": "https://localhost:8080/"
        },
        "outputId": "dd1184f0-2600-4c2f-8c37-a4f16f332cb8"
      },
      "execution_count": null,
      "outputs": [
        {
          "output_type": "execute_result",
          "data": {
            "text/plain": [
              "9"
            ]
          },
          "metadata": {},
          "execution_count": 12
        }
      ]
    },
    {
      "cell_type": "markdown",
      "source": [
        "**21. Find the mkinimum value in a tuple.**"
      ],
      "metadata": {
        "id": "cftZcHLSVBF_"
      }
    },
    {
      "cell_type": "code",
      "source": [
        "min(t4)"
      ],
      "metadata": {
        "colab": {
          "base_uri": "https://localhost:8080/"
        },
        "id": "BcDx55TNVLZb",
        "outputId": "624c4cd7-712a-4850-d290-9aeed6ff0aea"
      },
      "execution_count": null,
      "outputs": [
        {
          "output_type": "execute_result",
          "data": {
            "text/plain": [
              "1"
            ]
          },
          "metadata": {},
          "execution_count": 13
        }
      ]
    },
    {
      "cell_type": "markdown",
      "source": [
        "**23. Convert a string to a tuple of characters.**"
      ],
      "metadata": {
        "id": "lBhvKpYuVRHA"
      }
    },
    {
      "cell_type": "code",
      "source": [
        "str_1 = 'Hi I am Logesh'\n",
        "t11 = tuple(str_1.replace(' ', ''))\n",
        "t11"
      ],
      "metadata": {
        "colab": {
          "base_uri": "https://localhost:8080/"
        },
        "id": "a4xy0z8OVM9r",
        "outputId": "81e7bedb-1ab8-4c07-a9b3-65acf66485d9"
      },
      "execution_count": null,
      "outputs": [
        {
          "output_type": "execute_result",
          "data": {
            "text/plain": [
              "('H', 'i', 'I', 'a', 'm', 'L', 'o', 'g', 'e', 's', 'h')"
            ]
          },
          "metadata": {},
          "execution_count": 18
        }
      ]
    },
    {
      "cell_type": "markdown",
      "source": [
        "**24. Convert a tuple of characters to a string.**"
      ],
      "metadata": {
        "id": "we2eQxdtV1p_"
      }
    },
    {
      "cell_type": "code",
      "source": [
        "str_2 = ''.join(t11)\n",
        "str_2"
      ],
      "metadata": {
        "colab": {
          "base_uri": "https://localhost:8080/",
          "height": 36
        },
        "id": "tkaGbL1WVl_W",
        "outputId": "4d1134c2-4021-4bec-a81b-fda5712e9679"
      },
      "execution_count": null,
      "outputs": [
        {
          "output_type": "execute_result",
          "data": {
            "text/plain": [
              "'HiIamLogesh'"
            ],
            "application/vnd.google.colaboratory.intrinsic+json": {
              "type": "string"
            }
          },
          "metadata": {},
          "execution_count": 19
        }
      ]
    },
    {
      "cell_type": "markdown",
      "source": [
        "**25. Create a tuple from multiple data types.**"
      ],
      "metadata": {
        "id": "Ng_AmyUcWFY_"
      }
    },
    {
      "cell_type": "code",
      "source": [
        "t12 = (1, 'hello', 3.14, True)\n",
        "t12"
      ],
      "metadata": {
        "colab": {
          "base_uri": "https://localhost:8080/"
        },
        "id": "J-1ZoKBHV_o-",
        "outputId": "5ce792bc-3e05-459c-9420-dcc412353c16"
      },
      "execution_count": null,
      "outputs": [
        {
          "output_type": "execute_result",
          "data": {
            "text/plain": [
              "(1, 'hello', 3.14, True)"
            ]
          },
          "metadata": {},
          "execution_count": 3
        }
      ]
    },
    {
      "cell_type": "markdown",
      "source": [
        "**26. Check if two tuples are identical.**"
      ],
      "metadata": {
        "id": "mdcII5Rz9tPn"
      }
    },
    {
      "cell_type": "code",
      "source": [
        "t13 = (1, 2, 3)\n",
        "t14 = (1, 2, 3)\n",
        "\n",
        "if t13 == t14:\n",
        "  print(\"The tuples are identical.\")\n",
        "else:\n",
        "  print(\"The tuples are not identical.\")\n"
      ],
      "metadata": {
        "colab": {
          "base_uri": "https://localhost:8080/"
        },
        "id": "KXNRvBQU9lrS",
        "outputId": "999e7046-86f2-4c15-fa52-6acf57953400"
      },
      "execution_count": null,
      "outputs": [
        {
          "output_type": "stream",
          "name": "stdout",
          "text": [
            "The tuples are identical.\n"
          ]
        }
      ]
    },
    {
      "cell_type": "markdown",
      "source": [
        "**27. Sort the elements of a tuple.**"
      ],
      "metadata": {
        "id": "sw3d9bxM-AkB"
      }
    },
    {
      "cell_type": "code",
      "source": [
        "t15 = (4, 7, 3, 6, 9, 1, 2, 5)\n",
        "t15 = tuple(sorted(t15))\n",
        "t15"
      ],
      "metadata": {
        "colab": {
          "base_uri": "https://localhost:8080/"
        },
        "id": "9IZn_gnJ9z3V",
        "outputId": "4bcc4394-ab81-41fa-d0ef-b724844dbf7c"
      },
      "execution_count": null,
      "outputs": [
        {
          "output_type": "execute_result",
          "data": {
            "text/plain": [
              "(1, 2, 3, 4, 5, 6, 7, 9)"
            ]
          },
          "metadata": {},
          "execution_count": 11
        }
      ]
    },
    {
      "cell_type": "markdown",
      "source": [
        "**28. Convert a tuple of integers to a tuple of strings.**"
      ],
      "metadata": {
        "id": "GOqyMgRl-uhv"
      }
    },
    {
      "cell_type": "code",
      "source": [
        "t16 = tuple(str(i) for i in t15)\n",
        "t16"
      ],
      "metadata": {
        "colab": {
          "base_uri": "https://localhost:8080/"
        },
        "id": "5G4Rs4O1-Mte",
        "outputId": "e1c3d7f8-10cd-438e-be1f-e357c650dc0d"
      },
      "execution_count": null,
      "outputs": [
        {
          "output_type": "execute_result",
          "data": {
            "text/plain": [
              "('1', '2', '3', '4', '5', '6', '7', '9')"
            ]
          },
          "metadata": {},
          "execution_count": 25
        }
      ]
    },
    {
      "cell_type": "code",
      "source": [
        "t17 = tuple([int(i) for i in t16])\n",
        "t17"
      ],
      "metadata": {
        "colab": {
          "base_uri": "https://localhost:8080/"
        },
        "id": "_a-9a0W1-Y2Q",
        "outputId": "d8e549fe-372d-4d1d-df3a-dd7a06f4a3dd"
      },
      "execution_count": null,
      "outputs": [
        {
          "output_type": "execute_result",
          "data": {
            "text/plain": [
              "(1, 2, 3, 4, 5, 6, 7, 9)"
            ]
          },
          "metadata": {},
          "execution_count": 15
        }
      ]
    },
    {
      "cell_type": "markdown",
      "source": [
        "**30. Merge two tuples.**"
      ],
      "metadata": {
        "id": "Q4t8MBCf_lBW"
      }
    },
    {
      "cell_type": "code",
      "source": [
        "t18 = t14+t16\n",
        "t18"
      ],
      "metadata": {
        "colab": {
          "base_uri": "https://localhost:8080/"
        },
        "id": "gNIEJXUC_hdw",
        "outputId": "3cbe1056-24f7-487f-e0e0-b2207459cc96"
      },
      "execution_count": null,
      "outputs": [
        {
          "output_type": "execute_result",
          "data": {
            "text/plain": [
              "(1, 2, 3, '1', '2', '3', '4', '5', '6', '7', '9')"
            ]
          },
          "metadata": {},
          "execution_count": 21
        }
      ]
    },
    {
      "cell_type": "markdown",
      "source": [
        "**31. Flatten a nested tuple.**"
      ],
      "metadata": {
        "id": "CW5RT6Zt_3fx"
      }
    },
    {
      "cell_type": "code",
      "source": [
        "t19 = (1, 2, 3, (1, 2, 3, 4), (4, 5, 6, 7))\n",
        "t20 = tuple(i for j in t19 for i in (j if isinstance(j, tuple) else (j,)))\n",
        "print(t20)"
      ],
      "metadata": {
        "colab": {
          "base_uri": "https://localhost:8080/"
        },
        "id": "m6RDA5P4AVzr",
        "outputId": "fbe06f04-d089-489b-c07f-9be084e6d238"
      },
      "execution_count": null,
      "outputs": [
        {
          "output_type": "stream",
          "name": "stdout",
          "text": [
            "(1, 2, 3, 1, 2, 3, 4, 4, 5, 6, 7)\n"
          ]
        }
      ]
    },
    {
      "cell_type": "markdown",
      "source": [
        "**32. Create a tuple of the first 5 prime numbers.**"
      ],
      "metadata": {
        "id": "3p_QXYIzSdPP"
      }
    },
    {
      "cell_type": "code",
      "source": [
        "l_1 = []\n",
        "for i in range(2,6):\n",
        "  is_prime = True\n",
        "  for j in range(2, int(i/2)+1):\n",
        "    if i%j == 0:\n",
        "      is_prime = False\n",
        "      break\n",
        "  if is_prime:\n",
        "    l_1.append(i)\n",
        "prime_tuple = tuple(l_1)\n",
        "prime_tuple"
      ],
      "metadata": {
        "colab": {
          "base_uri": "https://localhost:8080/"
        },
        "id": "b5bUMg03BkeC",
        "outputId": "d45dbae3-369a-4454-a0ba-34f461f2ec60"
      },
      "execution_count": null,
      "outputs": [
        {
          "output_type": "execute_result",
          "data": {
            "text/plain": [
              "(2, 3, 5)"
            ]
          },
          "metadata": {},
          "execution_count": 29
        }
      ]
    },
    {
      "cell_type": "markdown",
      "source": [
        "**33. Check if a tuple is a palindrome.**"
      ],
      "metadata": {
        "id": "y47s0R_nT1mv"
      }
    },
    {
      "cell_type": "code",
      "source": [
        "t21 = (1, 2, 3, 2, 1)\n",
        "if t21 == t21[::-1]:\n",
        "  print('Tuple is a palindrome')\n",
        "else:\n",
        "  print('Tuple is not a palindrome')"
      ],
      "metadata": {
        "colab": {
          "base_uri": "https://localhost:8080/"
        },
        "id": "VplinyThTjv0",
        "outputId": "950e5e92-c1be-4bbf-a963-05842f71f341"
      },
      "execution_count": null,
      "outputs": [
        {
          "output_type": "stream",
          "name": "stdout",
          "text": [
            "Tuple is a palindrome\n"
          ]
        }
      ]
    },
    {
      "cell_type": "markdown",
      "source": [
        "**34. Create a tuple of squares of numbers from 1 to 5.**"
      ],
      "metadata": {
        "id": "r9--WKu-UebV"
      }
    },
    {
      "cell_type": "code",
      "source": [
        "t22 = tuple(i**2 for i in range(1,6))\n",
        "t22"
      ],
      "metadata": {
        "colab": {
          "base_uri": "https://localhost:8080/"
        },
        "id": "2TrYEEsGUXTs",
        "outputId": "79acc64f-34cc-4e3c-e20b-dd8ba3a35be7"
      },
      "execution_count": null,
      "outputs": [
        {
          "output_type": "execute_result",
          "data": {
            "text/plain": [
              "(1, 4, 9, 16, 25)"
            ]
          },
          "metadata": {},
          "execution_count": 32
        }
      ]
    },
    {
      "cell_type": "markdown",
      "source": [
        "**35. Filter out all even numbers from a tuple.**"
      ],
      "metadata": {
        "id": "gsZ1WL1uVXPC"
      }
    },
    {
      "cell_type": "code",
      "source": [
        "t23 = tuple(i for i in t22 if i%2 ==0)\n",
        "t23"
      ],
      "metadata": {
        "colab": {
          "base_uri": "https://localhost:8080/"
        },
        "id": "PTPE3edKVQmy",
        "outputId": "fcea7552-1892-4253-b1e3-e58ac4710f0b"
      },
      "execution_count": null,
      "outputs": [
        {
          "output_type": "execute_result",
          "data": {
            "text/plain": [
              "(4, 16)"
            ]
          },
          "metadata": {},
          "execution_count": 33
        }
      ]
    },
    {
      "cell_type": "markdown",
      "source": [
        "**36. Multiply all elements in a tuple by 2.**"
      ],
      "metadata": {
        "id": "n4yvRkoDVrfE"
      }
    },
    {
      "cell_type": "code",
      "source": [
        "t24 = tuple(i*2 for i in t22)\n",
        "t22"
      ],
      "metadata": {
        "colab": {
          "base_uri": "https://localhost:8080/"
        },
        "id": "zQedQqhLVmKE",
        "outputId": "8f7085f8-1560-4b0b-c703-4a65f2e729a1"
      },
      "execution_count": null,
      "outputs": [
        {
          "output_type": "execute_result",
          "data": {
            "text/plain": [
              "(1, 4, 9, 16, 25)"
            ]
          },
          "metadata": {},
          "execution_count": 36
        }
      ]
    },
    {
      "cell_type": "markdown",
      "source": [
        "**37. Create a tuple of random numbers.**"
      ],
      "metadata": {
        "id": "FCBv0mQLWes7"
      }
    },
    {
      "cell_type": "code",
      "source": [
        "import random\n",
        "\n",
        "t25 = tuple(random.randint(1,100) for i in range(1,6))\n",
        "t25"
      ],
      "metadata": {
        "colab": {
          "base_uri": "https://localhost:8080/"
        },
        "id": "K_eDTUruVwU6",
        "outputId": "08981575-3247-4967-fff7-446aa2cdddbe"
      },
      "execution_count": null,
      "outputs": [
        {
          "output_type": "execute_result",
          "data": {
            "text/plain": [
              "(90, 76, 39, 9, 63)"
            ]
          },
          "metadata": {},
          "execution_count": 38
        }
      ]
    },
    {
      "cell_type": "markdown",
      "source": [
        "**38. Check if a tuple is sorted.**"
      ],
      "metadata": {
        "id": "FqbB9BaTXLwT"
      }
    },
    {
      "cell_type": "code",
      "source": [
        "  for i in range(1, len(t25)):\n",
        "    if t25[i] < t25[i-1]:\n",
        "      print('Tuple is not sorted')\n",
        "      break\n",
        "  else:\n",
        "    print('Tuple is sorted')"
      ],
      "metadata": {
        "colab": {
          "base_uri": "https://localhost:8080/"
        },
        "id": "780mFzbrW6-w",
        "outputId": "867505b1-d511-495c-a02c-e79f48803d3a"
      },
      "execution_count": null,
      "outputs": [
        {
          "output_type": "stream",
          "name": "stdout",
          "text": [
            "Tuple is not sorted\n"
          ]
        }
      ]
    },
    {
      "cell_type": "markdown",
      "source": [
        "**39. Rotate a tuple to the left by `n` positions.**"
      ],
      "metadata": {
        "id": "-5QCabU0XZZP"
      }
    },
    {
      "cell_type": "code",
      "source": [
        "t26 = (1,2,3,4,5,6,7,8,9,10)\n",
        "n = 3\n",
        "t27 = t26[n:] + t26[:n]\n",
        "t27"
      ],
      "metadata": {
        "id": "5ZLBF_0ZZ9eY",
        "colab": {
          "base_uri": "https://localhost:8080/"
        },
        "outputId": "138cfdfd-9864-4dca-b31c-9402900f2527"
      },
      "execution_count": null,
      "outputs": [
        {
          "output_type": "execute_result",
          "data": {
            "text/plain": [
              "(4, 5, 6, 7, 8, 9, 10, 1, 2, 3)"
            ]
          },
          "metadata": {},
          "execution_count": 4
        }
      ]
    },
    {
      "cell_type": "markdown",
      "source": [
        "**40. Rotate a tuple to the right by `n` positions.**"
      ],
      "metadata": {
        "id": "fLddy-Vi2u3S"
      }
    },
    {
      "cell_type": "code",
      "source": [
        "t28 = t26[-n:] + t26[:-n]\n",
        "t28"
      ],
      "metadata": {
        "colab": {
          "base_uri": "https://localhost:8080/"
        },
        "id": "FKHbypp22dC_",
        "outputId": "adafe1d7-b20d-43c2-8933-8dceaf06eb1a"
      },
      "execution_count": null,
      "outputs": [
        {
          "output_type": "execute_result",
          "data": {
            "text/plain": [
              "(8, 9, 10, 1, 2, 3, 4, 5, 6, 7)"
            ]
          },
          "metadata": {},
          "execution_count": 6
        }
      ]
    },
    {
      "cell_type": "markdown",
      "source": [
        "**41. Create a tuple of the first 5 Fibonacci numbers.**"
      ],
      "metadata": {
        "id": "1rNNpfzZ3Sy-"
      }
    },
    {
      "cell_type": "code",
      "source": [
        "fib_numbers = []\n",
        "for i in range(5):\n",
        "  if i == 0:\n",
        "    fib_numbers.append(0)\n",
        "  elif i == 1:\n",
        "    fib_numbers.append(1)\n",
        "  else:\n",
        "    fib_numbers.append(fib_numbers[i - 1] + fib_numbers[i - 2])\n",
        "fib_tuple = tuple(fib_numbers)\n",
        "print(fib_tuple)"
      ],
      "metadata": {
        "colab": {
          "base_uri": "https://localhost:8080/"
        },
        "id": "u8vdM5T931Hl",
        "outputId": "6c9f40bf-2d6e-4b1f-852d-147db1aff9f8"
      },
      "execution_count": null,
      "outputs": [
        {
          "output_type": "stream",
          "name": "stdout",
          "text": [
            "(0, 1, 1, 2, 3)\n"
          ]
        }
      ]
    },
    {
      "cell_type": "markdown",
      "source": [
        "**42. Create a tuple from user input.**"
      ],
      "metadata": {
        "id": "fR840vRO4Vvd"
      }
    },
    {
      "cell_type": "code",
      "source": [
        "t29 = tuple(input())\n",
        "t29"
      ],
      "metadata": {
        "colab": {
          "base_uri": "https://localhost:8080/"
        },
        "id": "FJu8yRKq31s8",
        "outputId": "3df5c576-1a30-44dd-ea18-ff3a6ea6dbd1"
      },
      "execution_count": null,
      "outputs": [
        {
          "name": "stdout",
          "output_type": "stream",
          "text": [
            "1234567\n"
          ]
        },
        {
          "output_type": "execute_result",
          "data": {
            "text/plain": [
              "('1', '2', '3', '4', '5', '6', '7')"
            ]
          },
          "metadata": {},
          "execution_count": 11
        }
      ]
    },
    {
      "cell_type": "markdown",
      "source": [
        "**43. Swap two elements in a tuple.**"
      ],
      "metadata": {
        "id": "SJMz1J357gnc"
      }
    },
    {
      "cell_type": "code",
      "source": [
        "t30 = (1, 2, 3, 4, 5)\n",
        "index1 = 1\n",
        "index2 = 3\n",
        "list_t30 = list(t30)\n",
        "list_t30[index1], list_t30[index2] = list_t30[index2], list_t30[index1]\n",
        "t30 = tuple(list_t30)\n",
        "print(t30)"
      ],
      "metadata": {
        "colab": {
          "base_uri": "https://localhost:8080/"
        },
        "id": "Qdw6QCTj4LgA",
        "outputId": "a67f0a11-d9b7-4e1c-b57b-f667fb1ab248"
      },
      "execution_count": null,
      "outputs": [
        {
          "output_type": "stream",
          "name": "stdout",
          "text": [
            "(1, 4, 3, 2, 5)\n"
          ]
        }
      ]
    },
    {
      "cell_type": "markdown",
      "source": [
        "**44. Reverse the elements of a tuple.**"
      ],
      "metadata": {
        "id": "q3g11nLUN9CM"
      }
    },
    {
      "cell_type": "code",
      "source": [
        "t30[::-1]"
      ],
      "metadata": {
        "colab": {
          "base_uri": "https://localhost:8080/"
        },
        "id": "-gwvy009N8Xa",
        "outputId": "a1488ae6-a7ac-4745-b0fe-2bcce93ce1a9"
      },
      "execution_count": null,
      "outputs": [
        {
          "output_type": "execute_result",
          "data": {
            "text/plain": [
              "(5, 2, 3, 4, 1)"
            ]
          },
          "metadata": {},
          "execution_count": 5
        }
      ]
    },
    {
      "cell_type": "markdown",
      "source": [
        "**45. Create a tuple of the first `n` powers of 2.**"
      ],
      "metadata": {
        "id": "0ZGW9jqzOUtO"
      }
    },
    {
      "cell_type": "code",
      "source": [
        "n = 5\n",
        "t31 = tuple(2**i for i in range(1, n+1))\n",
        "t31"
      ],
      "metadata": {
        "colab": {
          "base_uri": "https://localhost:8080/"
        },
        "id": "PqAcC3qh7rZe",
        "outputId": "22b62a12-5b0a-4b1a-d1fd-fa5908cc1718"
      },
      "execution_count": null,
      "outputs": [
        {
          "output_type": "execute_result",
          "data": {
            "text/plain": [
              "(2, 4, 8, 16, 32)"
            ]
          },
          "metadata": {},
          "execution_count": 6
        }
      ]
    },
    {
      "cell_type": "markdown",
      "source": [
        "**46. Find the longest string in a tuple of strings.**"
      ],
      "metadata": {
        "id": "tpD9os8xOYnD"
      }
    },
    {
      "cell_type": "code",
      "source": [
        "t32 = ('Logesh', 'Data scientist', 'Love', 'Hope', 'Life coach')\n",
        "long_str = ''\n",
        "for word in t32:\n",
        "  if len(word) > len(long_str):\n",
        "    long_str = word\n",
        "print(long_str)"
      ],
      "metadata": {
        "colab": {
          "base_uri": "https://localhost:8080/"
        },
        "id": "-KZdhhu-OZOo",
        "outputId": "4f2c2e79-7f82-4f73-a1f8-1ab2527ebfe3"
      },
      "execution_count": null,
      "outputs": [
        {
          "output_type": "stream",
          "name": "stdout",
          "text": [
            "Data scientist\n"
          ]
        }
      ]
    },
    {
      "cell_type": "markdown",
      "source": [
        "**47. Find the shortest string in a tuple of strings.**"
      ],
      "metadata": {
        "id": "DdCX6-j1O5iq"
      }
    },
    {
      "cell_type": "code",
      "source": [
        "t32 = ('Logesh', 'Data scientist', 'Love', 'Hope', 'Life coach')\n",
        "short_str = t32[1]\n",
        "for word in t32:\n",
        "  if len(word) < len(short_str):\n",
        "    short_str = word\n",
        "print(short_str)"
      ],
      "metadata": {
        "colab": {
          "base_uri": "https://localhost:8080/"
        },
        "id": "wf6O8LTvO7nY",
        "outputId": "768c6393-dd5b-4160-957b-d4e404099a60"
      },
      "execution_count": null,
      "outputs": [
        {
          "output_type": "stream",
          "name": "stdout",
          "text": [
            "Love\n"
          ]
        }
      ]
    },
    {
      "cell_type": "markdown",
      "source": [
        "**48. Create a tuple of the first `n` triangular numbers.**"
      ],
      "metadata": {
        "id": "OOrVX1A6O6hI"
      }
    },
    {
      "cell_type": "code",
      "source": [
        "n = 10\n",
        "triangular_num = tuple( i*(i+1)//2 for i in range(1,n+1))\n",
        "triangular_num"
      ],
      "metadata": {
        "colab": {
          "base_uri": "https://localhost:8080/"
        },
        "id": "B4f4VjhKQsty",
        "outputId": "a4244d64-1e0e-49c5-f6c7-40a034125781"
      },
      "execution_count": null,
      "outputs": [
        {
          "output_type": "execute_result",
          "data": {
            "text/plain": [
              "(1, 3, 6, 10, 15, 21, 28, 36, 45, 55)"
            ]
          },
          "metadata": {},
          "execution_count": 10
        }
      ]
    },
    {
      "cell_type": "markdown",
      "source": [
        "**49. Check if a tuple contains another tuple as a subsequence.**"
      ],
      "metadata": {
        "id": "qGtcm3NJTuB1"
      }
    },
    {
      "cell_type": "code",
      "source": [
        "t33 = (1,2,3,4 ,5,6,7,8,9)\n",
        "t34 = (4,5,6)\n",
        "i, j = 0, 0\n",
        "while i < len(t33) and j < len(t34):\n",
        "  if t33[i] == t34[j]:\n",
        "    j += 1\n",
        "  i += 1\n",
        "  print(j)\n",
        "if j == len(t34):\n",
        "  print('t34 is a subsequence of t33')\n",
        "else:\n",
        "  print('t34 is not a subsequence of t33')"
      ],
      "metadata": {
        "id": "Bf33-ZaoT2go",
        "colab": {
          "base_uri": "https://localhost:8080/"
        },
        "outputId": "8d6347b6-e729-4e6c-9021-046d00d4a391"
      },
      "execution_count": null,
      "outputs": [
        {
          "output_type": "stream",
          "name": "stdout",
          "text": [
            "0\n",
            "0\n",
            "0\n",
            "1\n",
            "2\n",
            "3\n",
            "t34 is a subsequence of t33\n"
          ]
        }
      ]
    },
    {
      "cell_type": "markdown",
      "source": [
        "**50. Create a tuple of alternating 1s and 0s of length `n`.**"
      ],
      "metadata": {
        "id": "LRFkTeBfTihc"
      }
    },
    {
      "cell_type": "code",
      "source": [
        "n = 4\n",
        "t35 = tuple([1 if e % 2 == 0 else 0 for e in range(n)])\n",
        "t35"
      ],
      "metadata": {
        "id": "mMOgLPSmTVHy",
        "colab": {
          "base_uri": "https://localhost:8080/"
        },
        "outputId": "3855fa40-3e87-4e22-a010-f1661b4e23c1"
      },
      "execution_count": null,
      "outputs": [
        {
          "output_type": "execute_result",
          "data": {
            "text/plain": [
              "(1, 0, 1, 0)"
            ]
          },
          "metadata": {},
          "execution_count": 7
        }
      ]
    },
    {
      "cell_type": "markdown",
      "source": [
        "#Set Based Practice Problem"
      ],
      "metadata": {
        "id": "mStpuq0axkDf"
      }
    },
    {
      "cell_type": "markdown",
      "source": [
        "**1. Create a set with integers from 1 to 5.**"
      ],
      "metadata": {
        "id": "iNlUIf-VDk7C"
      }
    },
    {
      "cell_type": "code",
      "source": [
        "s1 = set(range(1,6))\n",
        "s1"
      ],
      "metadata": {
        "colab": {
          "base_uri": "https://localhost:8080/"
        },
        "id": "BRWauLzRxKmf",
        "outputId": "51169922-536a-4ac4-b565-df5dbc67d2e2"
      },
      "execution_count": null,
      "outputs": [
        {
          "output_type": "execute_result",
          "data": {
            "text/plain": [
              "{1, 2, 3, 4, 5}"
            ]
          },
          "metadata": {},
          "execution_count": 1
        }
      ]
    },
    {
      "cell_type": "markdown",
      "source": [
        "**2. Add an element to a set.**"
      ],
      "metadata": {
        "id": "Gu1z7SgsDvqc"
      }
    },
    {
      "cell_type": "code",
      "source": [
        "s1.update({6})\n",
        "s1"
      ],
      "metadata": {
        "colab": {
          "base_uri": "https://localhost:8080/"
        },
        "id": "-eBO7IFHDsF8",
        "outputId": "7b057f54-7fe3-4ef6-965f-f0ae8cbce954"
      },
      "execution_count": null,
      "outputs": [
        {
          "output_type": "execute_result",
          "data": {
            "text/plain": [
              "{1, 2, 3, 4, 5, 6}"
            ]
          },
          "metadata": {},
          "execution_count": 2
        }
      ]
    },
    {
      "cell_type": "markdown",
      "source": [
        "**3. Remove an element from a set.**"
      ],
      "metadata": {
        "id": "MxkVf_4rD4GA"
      }
    },
    {
      "cell_type": "code",
      "source": [
        "s1.remove(6)\n",
        "s1"
      ],
      "metadata": {
        "colab": {
          "base_uri": "https://localhost:8080/"
        },
        "id": "iCQBwpzzD10w",
        "outputId": "78067980-a0ee-479e-eca4-533907998d4a"
      },
      "execution_count": null,
      "outputs": [
        {
          "output_type": "execute_result",
          "data": {
            "text/plain": [
              "{1, 2, 3, 4, 5}"
            ]
          },
          "metadata": {},
          "execution_count": 3
        }
      ]
    },
    {
      "cell_type": "markdown",
      "source": [
        "**4. Check if an element exists in a set.**"
      ],
      "metadata": {
        "id": "YxZQDc-cEFe8"
      }
    },
    {
      "cell_type": "code",
      "source": [
        "if 3 in s1:\n",
        "  print('Element exists')\n",
        "else:\n",
        "  print('Element does not exist')"
      ],
      "metadata": {
        "colab": {
          "base_uri": "https://localhost:8080/"
        },
        "id": "4hDVV8EaD8JH",
        "outputId": "93cc04fa-9e62-4c06-e4a7-7e6480fd6d03"
      },
      "execution_count": null,
      "outputs": [
        {
          "output_type": "stream",
          "name": "stdout",
          "text": [
            "Element exists\n"
          ]
        }
      ]
    },
    {
      "cell_type": "markdown",
      "source": [
        "**5. Find the length of a set without using the `len()` function.**"
      ],
      "metadata": {
        "id": "THPFY0hFEbJP"
      }
    },
    {
      "cell_type": "code",
      "source": [
        "length = 0\n",
        "for i in s1:\n",
        "  length +=1\n",
        "length"
      ],
      "metadata": {
        "colab": {
          "base_uri": "https://localhost:8080/"
        },
        "id": "iCDPe6-PENnF",
        "outputId": "91c29ff6-da93-4dbc-9cde-eb5ffa01fba9"
      },
      "execution_count": null,
      "outputs": [
        {
          "output_type": "execute_result",
          "data": {
            "text/plain": [
              "5"
            ]
          },
          "metadata": {},
          "execution_count": 14
        }
      ]
    },
    {
      "cell_type": "markdown",
      "source": [
        "**6. Clear all elements from a set.**"
      ],
      "metadata": {
        "id": "_6WQI8hNFUNt"
      }
    },
    {
      "cell_type": "code",
      "source": [
        "s1.clear()"
      ],
      "metadata": {
        "id": "ZfOxm-_bEl3T"
      },
      "execution_count": null,
      "outputs": []
    },
    {
      "cell_type": "code",
      "source": [
        "s1"
      ],
      "metadata": {
        "colab": {
          "base_uri": "https://localhost:8080/"
        },
        "id": "bQVv8i78FZwC",
        "outputId": "9594cf0f-e932-4f37-e42d-6e3be02fdb21"
      },
      "execution_count": null,
      "outputs": [
        {
          "output_type": "execute_result",
          "data": {
            "text/plain": [
              "set()"
            ]
          },
          "metadata": {},
          "execution_count": 16
        }
      ]
    },
    {
      "cell_type": "markdown",
      "source": [
        "**7. Create a set of even numbers from 1 to 10.**"
      ],
      "metadata": {
        "id": "jMsT63VkFrsD"
      }
    },
    {
      "cell_type": "code",
      "source": [
        "s2 = set(range(2,11,2))\n",
        "s2"
      ],
      "metadata": {
        "colab": {
          "base_uri": "https://localhost:8080/"
        },
        "id": "ruPEuNapFbu1",
        "outputId": "b4ca1d12-0e21-44a3-a894-473051ab1278"
      },
      "execution_count": null,
      "outputs": [
        {
          "output_type": "execute_result",
          "data": {
            "text/plain": [
              "{2, 4, 6, 8, 10}"
            ]
          },
          "metadata": {},
          "execution_count": 19
        }
      ]
    },
    {
      "cell_type": "markdown",
      "source": [
        "**8. Create a set of odd numbers from 1 to 10.**"
      ],
      "metadata": {
        "id": "mJ-0YqZJF9CL"
      }
    },
    {
      "cell_type": "code",
      "source": [
        "s3 = set(range(1,10,2))\n",
        "s2"
      ],
      "metadata": {
        "colab": {
          "base_uri": "https://localhost:8080/"
        },
        "id": "bsuZUlYKF-kM",
        "outputId": "7141a549-ea0d-424b-e05d-ea7a7b25af5e"
      },
      "execution_count": null,
      "outputs": [
        {
          "output_type": "execute_result",
          "data": {
            "text/plain": [
              "{2, 4, 6, 8, 10}"
            ]
          },
          "metadata": {},
          "execution_count": 20
        }
      ]
    },
    {
      "cell_type": "markdown",
      "source": [
        "**9. Find the union of two sets.**"
      ],
      "metadata": {
        "id": "3-Dd1AidGxlg"
      }
    },
    {
      "cell_type": "code",
      "source": [
        "s4 = s2.union(s3)\n",
        "s4"
      ],
      "metadata": {
        "colab": {
          "base_uri": "https://localhost:8080/"
        },
        "id": "Ge0SUl3LGq3E",
        "outputId": "48c2bab8-9341-4e73-c329-3aaa4ce2bc99"
      },
      "execution_count": null,
      "outputs": [
        {
          "output_type": "execute_result",
          "data": {
            "text/plain": [
              "{1, 2, 3, 4, 5, 6, 7, 8, 9, 10}"
            ]
          },
          "metadata": {},
          "execution_count": 21
        }
      ]
    },
    {
      "cell_type": "markdown",
      "source": [
        "**10. Find the intersection of two sets.**"
      ],
      "metadata": {
        "id": "J1GHE4AdHOtN"
      }
    },
    {
      "cell_type": "code",
      "source": [
        "s5 = s2.intersection(s4)\n",
        "s5"
      ],
      "metadata": {
        "colab": {
          "base_uri": "https://localhost:8080/"
        },
        "id": "hNcsj7koHMC8",
        "outputId": "eee100f8-ed31-464f-e900-e7a433239f00"
      },
      "execution_count": null,
      "outputs": [
        {
          "output_type": "execute_result",
          "data": {
            "text/plain": [
              "{2, 4, 6, 8, 10}"
            ]
          },
          "metadata": {},
          "execution_count": 24
        }
      ]
    },
    {
      "cell_type": "markdown",
      "source": [
        "**11. Find the difference between two sets.**"
      ],
      "metadata": {
        "id": "PhLJyqoUHlTh"
      }
    },
    {
      "cell_type": "code",
      "source": [
        "s6 = s4.difference(s3)\n",
        "s6"
      ],
      "metadata": {
        "colab": {
          "base_uri": "https://localhost:8080/"
        },
        "id": "0ImjArnaHmbH",
        "outputId": "f37ad918-9b2e-4b5b-82b0-7e43bbd3ad3b"
      },
      "execution_count": null,
      "outputs": [
        {
          "output_type": "execute_result",
          "data": {
            "text/plain": [
              "{2, 4, 6, 8, 10}"
            ]
          },
          "metadata": {},
          "execution_count": 25
        }
      ]
    },
    {
      "cell_type": "markdown",
      "source": [
        "**12. Check if a set is a subset of another set.**"
      ],
      "metadata": {
        "id": "9Iu6ZzyBH7Cw"
      }
    },
    {
      "cell_type": "code",
      "source": [
        "s6.issubset(s4)"
      ],
      "metadata": {
        "colab": {
          "base_uri": "https://localhost:8080/"
        },
        "id": "_YejEP52H8Om",
        "outputId": "8277b0a7-f352-49e6-c97d-30ddf69c864c"
      },
      "execution_count": null,
      "outputs": [
        {
          "output_type": "execute_result",
          "data": {
            "text/plain": [
              "True"
            ]
          },
          "metadata": {},
          "execution_count": 26
        }
      ]
    },
    {
      "cell_type": "markdown",
      "source": [
        "**13. Check if a set is a superset of another set.**"
      ],
      "metadata": {
        "id": "hMFTK9kLIZT0"
      }
    },
    {
      "cell_type": "code",
      "source": [
        "s4.issuperset(s6)"
      ],
      "metadata": {
        "colab": {
          "base_uri": "https://localhost:8080/"
        },
        "id": "zb_G38DqIaSw",
        "outputId": "d5979790-b0d1-42dc-bc3b-34e312b2c962"
      },
      "execution_count": null,
      "outputs": [
        {
          "output_type": "execute_result",
          "data": {
            "text/plain": [
              "True"
            ]
          },
          "metadata": {},
          "execution_count": 28
        }
      ]
    },
    {
      "cell_type": "markdown",
      "source": [
        "**14. Create a set from a list.**"
      ],
      "metadata": {
        "id": "9mDxMjn5Icsf"
      }
    },
    {
      "cell_type": "code",
      "source": [
        "l1 = [1, 2, 3, 4, 5]\n",
        "s7 = set(l1)\n",
        "s7"
      ],
      "metadata": {
        "colab": {
          "base_uri": "https://localhost:8080/"
        },
        "id": "Dz5BplGUId3O",
        "outputId": "1b769060-6b18-4a24-9771-c66e351a9129"
      },
      "execution_count": null,
      "outputs": [
        {
          "output_type": "execute_result",
          "data": {
            "text/plain": [
              "{1, 2, 3, 4, 5}"
            ]
          },
          "metadata": {},
          "execution_count": 32
        }
      ]
    },
    {
      "cell_type": "markdown",
      "source": [
        "**15. Convert a set to a list.**"
      ],
      "metadata": {
        "id": "LK_Pag0NV1C8"
      }
    },
    {
      "cell_type": "code",
      "source": [
        "s7 = list(s7)\n",
        "s7"
      ],
      "metadata": {
        "colab": {
          "base_uri": "https://localhost:8080/"
        },
        "id": "WBgT-HhtTfX3",
        "outputId": "b00a9cf1-1e91-4006-a944-39001de6435a"
      },
      "execution_count": null,
      "outputs": [
        {
          "output_type": "execute_result",
          "data": {
            "text/plain": [
              "[1, 2, 3, 4, 5]"
            ]
          },
          "metadata": {},
          "execution_count": 33
        }
      ]
    },
    {
      "cell_type": "markdown",
      "source": [
        "**16. Remove a random element from a set.**"
      ],
      "metadata": {
        "id": "4_ViK0fFV4Wc"
      }
    },
    {
      "cell_type": "code",
      "source": [
        "import random\n",
        "remove = random.randint(0,len(s8)-1)\n",
        "s8 = {1,2,3,4,5,7,9,6}\n",
        "s8.remove(list(s8)[remove])\n",
        "s8"
      ],
      "metadata": {
        "colab": {
          "base_uri": "https://localhost:8080/"
        },
        "id": "1ra7_qgXTvmV",
        "outputId": "ef5dffc6-3c11-42c1-e1e4-6ce3d752ee45"
      },
      "execution_count": null,
      "outputs": [
        {
          "output_type": "execute_result",
          "data": {
            "text/plain": [
              "{1, 3, 4, 5, 6, 7, 9}"
            ]
          },
          "metadata": {},
          "execution_count": 43
        }
      ]
    },
    {
      "cell_type": "markdown",
      "source": [
        "**17. Pop an element from a set.**"
      ],
      "metadata": {
        "id": "Ee8nauncXEhS"
      }
    },
    {
      "cell_type": "code",
      "source": [
        "s8.pop()"
      ],
      "metadata": {
        "colab": {
          "base_uri": "https://localhost:8080/"
        },
        "id": "QEHynipTWIYP",
        "outputId": "5bd80a2c-4ecf-4c50-c799-fbde9ffcb5b1"
      },
      "execution_count": null,
      "outputs": [
        {
          "output_type": "execute_result",
          "data": {
            "text/plain": [
              "1"
            ]
          },
          "metadata": {},
          "execution_count": 44
        }
      ]
    },
    {
      "cell_type": "markdown",
      "source": [
        "**18. Check if two sets have no elements in common.**"
      ],
      "metadata": {
        "id": "uqYZJOLYXcja"
      }
    },
    {
      "cell_type": "code",
      "source": [
        "s9 = {1,2,3,4,5,6,7}\n",
        "s10 = {8,9,10,11,12}\n",
        "s9.isdisjoint(s10)"
      ],
      "metadata": {
        "colab": {
          "base_uri": "https://localhost:8080/"
        },
        "id": "fSMIpjtLXOQ8",
        "outputId": "24524145-2bea-4952-dacd-becd4188f4f0"
      },
      "execution_count": null,
      "outputs": [
        {
          "output_type": "execute_result",
          "data": {
            "text/plain": [
              "True"
            ]
          },
          "metadata": {},
          "execution_count": 45
        }
      ]
    },
    {
      "cell_type": "markdown",
      "source": [
        "**19. Find the symmetric difference between two sets.**"
      ],
      "metadata": {
        "id": "b9AvKIrfg79X"
      }
    },
    {
      "cell_type": "code",
      "source": [
        "s9 = {1, 2, 3, 4, 5}\n",
        "s10 = {4, 5, 6, 7, 8}\n",
        "\n",
        "symmetric_difference = s9 ^ s10\n",
        "symmetric_difference"
      ],
      "metadata": {
        "colab": {
          "base_uri": "https://localhost:8080/"
        },
        "id": "8W78E1XYg20k",
        "outputId": "cd97c99d-5bd4-407c-99f3-8d26873aeef9"
      },
      "execution_count": null,
      "outputs": [
        {
          "output_type": "execute_result",
          "data": {
            "text/plain": [
              "{1, 2, 3, 6, 7, 8}"
            ]
          },
          "metadata": {},
          "execution_count": 47
        }
      ]
    },
    {
      "cell_type": "markdown",
      "source": [
        "**20. Update a set with elements from another set.**"
      ],
      "metadata": {
        "id": "ly8_UKHehVB5"
      }
    },
    {
      "cell_type": "code",
      "source": [
        "s11 = {1, 2, 3, 4, 5}\n",
        "s12 = {4, 5, 6, 7, 8}\n",
        "\n",
        "s11.update(s12)\n",
        "s11"
      ],
      "metadata": {
        "colab": {
          "base_uri": "https://localhost:8080/"
        },
        "id": "z7qBjSXrhHpB",
        "outputId": "a9962d26-bfcb-43bc-ec20-f13fd728e3f9"
      },
      "execution_count": null,
      "outputs": [
        {
          "output_type": "execute_result",
          "data": {
            "text/plain": [
              "{1, 2, 3, 4, 5, 6, 7, 8}"
            ]
          },
          "metadata": {},
          "execution_count": 49
        }
      ]
    },
    {
      "cell_type": "markdown",
      "source": [
        "**21. Create a set of the first 5 prime numbers.**"
      ],
      "metadata": {
        "id": "HraN1Kp_iemo"
      }
    },
    {
      "cell_type": "code",
      "source": [
        "prime_set ={i for i in range(2,12) if all(i%j != 0 for j in range(2, int(i*0.5)+1))}\n",
        "prime_set"
      ],
      "metadata": {
        "colab": {
          "base_uri": "https://localhost:8080/"
        },
        "id": "CjDmPkQEiWbU",
        "outputId": "666e60b1-ffe7-4db3-e4a4-6605e46eeeeb"
      },
      "execution_count": null,
      "outputs": [
        {
          "output_type": "execute_result",
          "data": {
            "text/plain": [
              "{2, 3, 5, 7, 11}"
            ]
          },
          "metadata": {},
          "execution_count": 71
        }
      ]
    },
    {
      "cell_type": "markdown",
      "source": [
        "**22. Check if two sets are identical.**"
      ],
      "metadata": {
        "id": "qwn7b4cqoHAn"
      }
    },
    {
      "cell_type": "code",
      "source": [
        "s11 = {1,3,5,7,9}\n",
        "s12 = {1,3,5,7,9}\n",
        "if s11 == s12:\n",
        "  print('Sets are identical')\n",
        "else:\n",
        "  print('Sets are not identical')"
      ],
      "metadata": {
        "colab": {
          "base_uri": "https://localhost:8080/"
        },
        "id": "bkFuMe2KkXGF",
        "outputId": "b9d55e64-a356-45a5-fe76-354864bd5833"
      },
      "execution_count": null,
      "outputs": [
        {
          "output_type": "stream",
          "name": "stdout",
          "text": [
            "Sets are identical\n"
          ]
        }
      ]
    },
    {
      "cell_type": "markdown",
      "source": [
        "**23. Create a frozen set.**"
      ],
      "metadata": {
        "id": "xzLsRauPonpr"
      }
    },
    {
      "cell_type": "code",
      "source": [
        "s12 = frozenset(s11)\n",
        "s12"
      ],
      "metadata": {
        "colab": {
          "base_uri": "https://localhost:8080/"
        },
        "id": "TFSQo45loX_T",
        "outputId": "d11a8e2d-e4b2-4210-fd81-295d9fa77701"
      },
      "execution_count": null,
      "outputs": [
        {
          "output_type": "execute_result",
          "data": {
            "text/plain": [
              "frozenset({1, 3, 5, 7, 9})"
            ]
          },
          "metadata": {},
          "execution_count": 75
        }
      ]
    },
    {
      "cell_type": "markdown",
      "source": [
        "**24. Check if a set is disjoint with another set.**"
      ],
      "metadata": {
        "id": "zeti_JqOo8YN"
      }
    },
    {
      "cell_type": "code",
      "source": [
        "s11.isdisjoint(s5)"
      ],
      "metadata": {
        "colab": {
          "base_uri": "https://localhost:8080/"
        },
        "id": "-nwK_JAroxXP",
        "outputId": "7b005b7e-1403-43ff-ecc2-fcadff6f4371"
      },
      "execution_count": null,
      "outputs": [
        {
          "output_type": "execute_result",
          "data": {
            "text/plain": [
              "True"
            ]
          },
          "metadata": {},
          "execution_count": 77
        }
      ]
    },
    {
      "cell_type": "markdown",
      "source": [
        "**25. Create a set of squares of numbers from 1 to 5.**"
      ],
      "metadata": {
        "id": "bkXLLpMypS4U"
      }
    },
    {
      "cell_type": "code",
      "source": [
        "s13 = {i**2 for i in range(1,6)}\n",
        "s13"
      ],
      "metadata": {
        "colab": {
          "base_uri": "https://localhost:8080/"
        },
        "id": "Aal_oJ43pDUp",
        "outputId": "0a97841f-d329-4006-ad1c-42119e9dcdaf"
      },
      "execution_count": null,
      "outputs": [
        {
          "output_type": "execute_result",
          "data": {
            "text/plain": [
              "{1, 4, 9, 16, 25}"
            ]
          },
          "metadata": {},
          "execution_count": 79
        }
      ]
    },
    {
      "cell_type": "markdown",
      "source": [
        "**28. Create a set of random numbers.**"
      ],
      "metadata": {
        "id": "V6u3AH1zphsl"
      }
    },
    {
      "cell_type": "code",
      "source": [
        "import random\n",
        "s14 = {random.randint(1,100) for i in range(random.randint(1,7))}\n",
        "s14"
      ],
      "metadata": {
        "colab": {
          "base_uri": "https://localhost:8080/"
        },
        "id": "yIz7GKhxpbP9",
        "outputId": "f673fdb8-ff82-42ee-dd1b-65ed30621a88"
      },
      "execution_count": null,
      "outputs": [
        {
          "output_type": "execute_result",
          "data": {
            "text/plain": [
              "{14, 25, 37, 40, 98}"
            ]
          },
          "metadata": {},
          "execution_count": 81
        }
      ]
    },
    {
      "cell_type": "markdown",
      "source": [
        "**29. Check if a set is empty.**"
      ],
      "metadata": {
        "id": "-_WvIYoxqC1S"
      }
    },
    {
      "cell_type": "code",
      "source": [
        "s15 = set()\n",
        "if len(s15) == 0:\n",
        "  print('Set is empty')\n",
        "else:\n",
        "  print('Set is not empty')"
      ],
      "metadata": {
        "colab": {
          "base_uri": "https://localhost:8080/"
        },
        "id": "qByod2iyp9A0",
        "outputId": "cf6799f1-08ab-4cfb-bd2e-e13027a36e90"
      },
      "execution_count": null,
      "outputs": [
        {
          "output_type": "stream",
          "name": "stdout",
          "text": [
            "Set is empty\n"
          ]
        }
      ]
    },
    {
      "cell_type": "markdown",
      "source": [
        "**30. Create a nested set (hint: use frozenset).**"
      ],
      "metadata": {
        "id": "OjDvaUPlqZFN"
      }
    },
    {
      "cell_type": "code",
      "source": [
        "nested_set = {frozenset({1, 2, 3}), frozenset({4, 5, 6}), frozenset({7, 8, 9})}\n",
        "nested_set"
      ],
      "metadata": {
        "colab": {
          "base_uri": "https://localhost:8080/"
        },
        "id": "FC-7ikQPqWGh",
        "outputId": "05569508-19a3-4684-9f00-be635ee1d1c6"
      },
      "execution_count": null,
      "outputs": [
        {
          "output_type": "execute_result",
          "data": {
            "text/plain": [
              "{frozenset({1, 2, 3}), frozenset({4, 5, 6}), frozenset({7, 8, 9})}"
            ]
          },
          "metadata": {},
          "execution_count": 84
        }
      ]
    },
    {
      "cell_type": "markdown",
      "source": [
        "**31. Remove an element from a set using the discard method.**"
      ],
      "metadata": {
        "id": "ELBYlrZiw9gm"
      }
    },
    {
      "cell_type": "code",
      "source": [
        "s16 = {1,2,3,4,5}\n",
        "s16.discard(3)\n",
        "s16"
      ],
      "metadata": {
        "colab": {
          "base_uri": "https://localhost:8080/"
        },
        "id": "DiMh44FFw-ID",
        "outputId": "f7e922fd-9112-4c06-f7d7-a7ef0894143e"
      },
      "execution_count": null,
      "outputs": [
        {
          "output_type": "execute_result",
          "data": {
            "text/plain": [
              "{1, 2, 4, 5}"
            ]
          },
          "metadata": {},
          "execution_count": 85
        }
      ]
    },
    {
      "cell_type": "markdown",
      "source": [
        "**32. Compare two sets.**"
      ],
      "metadata": {
        "id": "hnwNLr8tw7f5"
      }
    },
    {
      "cell_type": "code",
      "source": [
        "s17 = {1,2,3,4,5}\n",
        "s18 = {3,4,5,6,7}\n",
        "print(s17.intersection(s18))\n",
        "print(s17.difference(s18))"
      ],
      "metadata": {
        "colab": {
          "base_uri": "https://localhost:8080/"
        },
        "id": "NhHENdi2w8sK",
        "outputId": "b96042a2-b418-4b70-8486-d12112f27bab"
      },
      "execution_count": null,
      "outputs": [
        {
          "output_type": "stream",
          "name": "stdout",
          "text": [
            "{3, 4, 5}\n",
            "{1, 2}\n"
          ]
        }
      ]
    },
    {
      "cell_type": "markdown",
      "source": [
        "**33. Create a set from a string.**"
      ],
      "metadata": {
        "id": "gWJU2xiTy83f"
      }
    },
    {
      "cell_type": "code",
      "source": [
        "str1 = 'Logesh'\n",
        "s19 = set(str1)\n",
        "s19"
      ],
      "metadata": {
        "colab": {
          "base_uri": "https://localhost:8080/"
        },
        "id": "CtK1NEXvykYK",
        "outputId": "8608648a-702e-491e-d22e-959361239bdd"
      },
      "execution_count": null,
      "outputs": [
        {
          "output_type": "execute_result",
          "data": {
            "text/plain": [
              "{'L', 'e', 'g', 'h', 'o', 's'}"
            ]
          },
          "metadata": {},
          "execution_count": 88
        }
      ]
    },
    {
      "cell_type": "markdown",
      "source": [
        "**34. Convert a set of strings to a set of integers.**"
      ],
      "metadata": {
        "id": "DuMkfH8CzINQ"
      }
    },
    {
      "cell_type": "code",
      "source": [
        "str2 = {'1', '2', '3', '4', '5'}\n",
        "s20 = {int(i) for i in str2}\n",
        "s20"
      ],
      "metadata": {
        "colab": {
          "base_uri": "https://localhost:8080/"
        },
        "id": "OGnM8uEuzMa3",
        "outputId": "ad51746c-4e56-46ca-e196-4ade13a5de17"
      },
      "execution_count": null,
      "outputs": [
        {
          "output_type": "execute_result",
          "data": {
            "text/plain": [
              "{1, 2, 3, 4, 5}"
            ]
          },
          "metadata": {},
          "execution_count": 89
        }
      ]
    },
    {
      "cell_type": "markdown",
      "source": [
        "**35. Convert a set of integers to a set of strings.**"
      ],
      "metadata": {
        "id": "q9uWb5glzGIJ"
      }
    },
    {
      "cell_type": "code",
      "source": [
        "str3 = {str(i) for i in s20}\n",
        "str3"
      ],
      "metadata": {
        "colab": {
          "base_uri": "https://localhost:8080/"
        },
        "id": "XS_Xw-IazStw",
        "outputId": "c02fda9e-7dc5-4da1-b793-124a6206bbf0"
      },
      "execution_count": null,
      "outputs": [
        {
          "output_type": "execute_result",
          "data": {
            "text/plain": [
              "{'1', '2', '3', '4', '5'}"
            ]
          },
          "metadata": {},
          "execution_count": 90
        }
      ]
    },
    {
      "cell_type": "markdown",
      "source": [
        "**36. Create a set from a tuple.**"
      ],
      "metadata": {
        "id": "sPrGB8SfzNOw"
      }
    },
    {
      "cell_type": "code",
      "source": [
        "t = tuple(range(1,6))\n",
        "s21 = set(t)\n",
        "s21"
      ],
      "metadata": {
        "colab": {
          "base_uri": "https://localhost:8080/"
        },
        "id": "JZNcfJ0KzHf9",
        "outputId": "8b9cea84-c75e-403b-e3ee-dd5de771740c"
      },
      "execution_count": null,
      "outputs": [
        {
          "output_type": "execute_result",
          "data": {
            "text/plain": [
              "{1, 2, 3, 4, 5}"
            ]
          },
          "metadata": {},
          "execution_count": 91
        }
      ]
    },
    {
      "cell_type": "markdown",
      "source": [
        "**37. Convert a set to a tuple.**"
      ],
      "metadata": {
        "id": "ifkLPG4-zdbl"
      }
    },
    {
      "cell_type": "code",
      "source": [
        "t4 = tuple(s21)\n",
        "t4"
      ],
      "metadata": {
        "colab": {
          "base_uri": "https://localhost:8080/"
        },
        "id": "ZOzITUdczejI",
        "outputId": "ed28fc8c-636a-493f-b7fc-90e04389965e"
      },
      "execution_count": null,
      "outputs": [
        {
          "output_type": "execute_result",
          "data": {
            "text/plain": [
              "(1, 2, 3, 4, 5)"
            ]
          },
          "metadata": {},
          "execution_count": 93
        }
      ]
    },
    {
      "cell_type": "markdown",
      "source": [
        "**38. Find the maximum value in a set.**"
      ],
      "metadata": {
        "id": "RWljMFHIzguo"
      }
    },
    {
      "cell_type": "code",
      "source": [
        "maximum = max(s17)\n",
        "maximum"
      ],
      "metadata": {
        "colab": {
          "base_uri": "https://localhost:8080/"
        },
        "id": "VkIFDvT3zh9X",
        "outputId": "b4e95950-11f6-40d3-9e6d-269e0ac7a5b6"
      },
      "execution_count": null,
      "outputs": [
        {
          "output_type": "execute_result",
          "data": {
            "text/plain": [
              "5"
            ]
          },
          "metadata": {},
          "execution_count": 87
        }
      ]
    },
    {
      "cell_type": "markdown",
      "source": [
        "**39. Find the minimum value in a set.**"
      ],
      "metadata": {
        "id": "Irfp590U0J5n"
      }
    },
    {
      "cell_type": "code",
      "source": [
        "minimum  = min(s17)\n",
        "minimum"
      ],
      "metadata": {
        "colab": {
          "base_uri": "https://localhost:8080/"
        },
        "id": "10hh35sHzoJ5",
        "outputId": "250354cb-b9d2-49d6-9f47-6711328454fc"
      },
      "execution_count": null,
      "outputs": [
        {
          "output_type": "execute_result",
          "data": {
            "text/plain": [
              "1"
            ]
          },
          "metadata": {},
          "execution_count": 94
        }
      ]
    },
    {
      "cell_type": "markdown",
      "source": [
        "**40. Create a set from user input.**"
      ],
      "metadata": {
        "id": "SeoQSkiq0GQv"
      }
    },
    {
      "cell_type": "code",
      "source": [
        "user_input = input()\n",
        "s22 = set(user_input.split())\n",
        "s22"
      ],
      "metadata": {
        "colab": {
          "base_uri": "https://localhost:8080/"
        },
        "id": "pdT3fjnj0Hu9",
        "outputId": "b35be2db-d028-42d2-e414-fead80a545c0"
      },
      "execution_count": 3,
      "outputs": [
        {
          "name": "stdout",
          "output_type": "stream",
          "text": [
            "23 34 56 78\n"
          ]
        },
        {
          "output_type": "execute_result",
          "data": {
            "text/plain": [
              "{'23', '34', '56', '78'}"
            ]
          },
          "metadata": {},
          "execution_count": 3
        }
      ]
    },
    {
      "cell_type": "markdown",
      "source": [
        "**41. Check if the intersection of two sets is empty.**"
      ],
      "metadata": {
        "id": "8X9Oda0wPu_z"
      }
    },
    {
      "cell_type": "code",
      "source": [
        "s23 = {23, 45, 67, 25, 56}\n",
        "s24 = {1, 2, 3, 4, 5}\n",
        "print('Intersection is not empty') if s23.intersection(s24) else print('Intersection is empty')"
      ],
      "metadata": {
        "colab": {
          "base_uri": "https://localhost:8080/"
        },
        "id": "ptySzghYPBzN",
        "outputId": "304f2798-696d-4f3f-8030-b2ec298f9cda"
      },
      "execution_count": 27,
      "outputs": [
        {
          "output_type": "stream",
          "name": "stdout",
          "text": [
            "Intersection is empty\n"
          ]
        }
      ]
    },
    {
      "cell_type": "markdown",
      "source": [
        "**42. Create a set of the first 5 Fibonacci numbers.**"
      ],
      "metadata": {
        "id": "6b3b2CuWQjl9"
      }
    },
    {
      "cell_type": "code",
      "source": [
        "l23 = []\n",
        "while len(set(l23)) != 5:\n",
        "  if len(l23) < 3:\n",
        "    l23.append(1)\n",
        "  else:\n",
        "    l23.append(l23[len(l23)-1] + l23[len(l23)-2])\n",
        "s25 = set(l23)\n",
        "s25"
      ],
      "metadata": {
        "colab": {
          "base_uri": "https://localhost:8080/"
        },
        "id": "TIx3L0NrQA6C",
        "outputId": "d6561951-0bf4-4b0f-f2fe-add2a0f8d8a5"
      },
      "execution_count": 21,
      "outputs": [
        {
          "output_type": "execute_result",
          "data": {
            "text/plain": [
              "{1, 2, 3, 5, 8}"
            ]
          },
          "metadata": {},
          "execution_count": 21
        }
      ]
    },
    {
      "cell_type": "markdown",
      "source": [
        "**43. Remove duplicates from a list using sets.**"
      ],
      "metadata": {
        "id": "Svrj_2nHUfto"
      }
    },
    {
      "cell_type": "code",
      "source": [
        "l26 = [1, 3, 4, 5, 2, 3, 5, 4, 3]\n",
        "l27 = list(set(l26))\n",
        "l27"
      ],
      "metadata": {
        "colab": {
          "base_uri": "https://localhost:8080/"
        },
        "id": "1N4sJa7NRJca",
        "outputId": "40154e46-5931-4527-df2c-050fd414c6ee"
      },
      "execution_count": 22,
      "outputs": [
        {
          "output_type": "execute_result",
          "data": {
            "text/plain": [
              "[1, 2, 3, 4, 5]"
            ]
          },
          "metadata": {},
          "execution_count": 22
        }
      ]
    },
    {
      "cell_type": "markdown",
      "source": [
        "**44. Check if two sets have the same elements, regardless of their count.**"
      ],
      "metadata": {
        "id": "fmv1ylZTU3G4"
      }
    },
    {
      "cell_type": "code",
      "source": [
        "s27 = {1, 2, 3, 4, 5}\n",
        "s28 = {1, 2, 3, 4, 5, 5, 5}\n",
        "\n",
        "print(\"The sets have the same elements.\") if set(s27) == set(s28) else print(\"The sets do not have the same elements.\")"
      ],
      "metadata": {
        "colab": {
          "base_uri": "https://localhost:8080/"
        },
        "id": "XW6PaZ5qUzbX",
        "outputId": "e042a792-b5eb-40a3-d76f-50ecf117fbcc"
      },
      "execution_count": 34,
      "outputs": [
        {
          "output_type": "stream",
          "name": "stdout",
          "text": [
            "The sets have the same elements.\n"
          ]
        }
      ]
    },
    {
      "cell_type": "markdown",
      "source": [
        "**45. Create a set of the first `n` powers of 2.**"
      ],
      "metadata": {
        "id": "VIR8NYDBVfjx"
      }
    },
    {
      "cell_type": "code",
      "source": [
        "n = 6\n",
        "s29 = set([2**i for i in range(1,n+1)])\n",
        "s29"
      ],
      "metadata": {
        "colab": {
          "base_uri": "https://localhost:8080/"
        },
        "id": "a9cmro0nVE2c",
        "outputId": "b42d2a03-65bc-4905-c84a-b9603024a707"
      },
      "execution_count": 28,
      "outputs": [
        {
          "output_type": "execute_result",
          "data": {
            "text/plain": [
              "{2, 4, 8, 16, 32, 64}"
            ]
          },
          "metadata": {},
          "execution_count": 28
        }
      ]
    },
    {
      "cell_type": "markdown",
      "source": [
        "**46. Find the common elements between a set and a list.**"
      ],
      "metadata": {
        "id": "etpNFRI0ZX6z"
      }
    },
    {
      "cell_type": "code",
      "source": [
        "l30 = [1,2,3,4,5,6,7,8,9]\n",
        "s29.intersection(set(l30))"
      ],
      "metadata": {
        "colab": {
          "base_uri": "https://localhost:8080/"
        },
        "id": "E-Flwk5TZTpJ",
        "outputId": "4e83b9c6-eb7f-4ad6-9431-17bcc12a25a2"
      },
      "execution_count": 35,
      "outputs": [
        {
          "output_type": "execute_result",
          "data": {
            "text/plain": [
              "{2, 4, 8}"
            ]
          },
          "metadata": {},
          "execution_count": 35
        }
      ]
    },
    {
      "cell_type": "markdown",
      "source": [
        "**47. Create a set of the first `n` triangular numbers.**"
      ],
      "metadata": {
        "id": "rDdAKHOPZvZg"
      }
    },
    {
      "cell_type": "code",
      "source": [
        "n = 10\n",
        "triangular_num = set([i*(i+1)//2 for i in range(1,n+1)])\n",
        "triangular_num"
      ],
      "metadata": {
        "colab": {
          "base_uri": "https://localhost:8080/"
        },
        "id": "x5QktrRTZw0z",
        "outputId": "b72f82a0-bca2-4c7d-f80d-a454a86115ae"
      },
      "execution_count": 31,
      "outputs": [
        {
          "output_type": "execute_result",
          "data": {
            "text/plain": [
              "{1, 3, 6, 10, 15, 21, 28, 36, 45, 55}"
            ]
          },
          "metadata": {},
          "execution_count": 31
        }
      ]
    },
    {
      "cell_type": "markdown",
      "source": [
        "**48. Check if a set contains another set as a subset.**"
      ],
      "metadata": {
        "id": "vU1_zaoiaUVV"
      }
    },
    {
      "cell_type": "code",
      "source": [
        "s29.issubset(s28)"
      ],
      "metadata": {
        "colab": {
          "base_uri": "https://localhost:8080/"
        },
        "id": "2-LTARWLaV0O",
        "outputId": "a5010f59-0804-48e4-89da-b164962089d2"
      },
      "execution_count": 36,
      "outputs": [
        {
          "output_type": "execute_result",
          "data": {
            "text/plain": [
              "False"
            ]
          },
          "metadata": {},
          "execution_count": 36
        }
      ]
    },
    {
      "cell_type": "markdown",
      "source": [
        "**49. Create a set of alternating 1s and 0s of length `n`.**"
      ],
      "metadata": {
        "id": "RAZ9V3zUacgw"
      }
    },
    {
      "cell_type": "code",
      "source": [
        "n = 10\n",
        "s31 = set([1 if i % 2 == 0 else 0 for i in range(n)])\n",
        "s31"
      ],
      "metadata": {
        "colab": {
          "base_uri": "https://localhost:8080/"
        },
        "id": "D1nPV4GJaerJ",
        "outputId": "09fa8c3b-7ade-4b11-e1ad-c78ebaa21334"
      },
      "execution_count": 38,
      "outputs": [
        {
          "output_type": "execute_result",
          "data": {
            "text/plain": [
              "{0, 1}"
            ]
          },
          "metadata": {},
          "execution_count": 38
        }
      ]
    },
    {
      "cell_type": "markdown",
      "source": [
        "**50. Merge multiple sets into one.**"
      ],
      "metadata": {
        "id": "X1PMxBN1ahNG"
      }
    },
    {
      "cell_type": "code",
      "source": [
        "s32 = {1, 2, 3}\n",
        "s33 = {4, 5, 6}\n",
        "s34 = {7, 8, 9}\n",
        "s35 = s32.union(s33,s34)\n",
        "s35"
      ],
      "metadata": {
        "colab": {
          "base_uri": "https://localhost:8080/"
        },
        "id": "As-p6fi_b9tX",
        "outputId": "557ff2ed-9e6c-4703-ec9b-e96ba6807e6b"
      },
      "execution_count": 39,
      "outputs": [
        {
          "output_type": "execute_result",
          "data": {
            "text/plain": [
              "{1, 2, 3, 4, 5, 6, 7, 8, 9}"
            ]
          },
          "metadata": {},
          "execution_count": 39
        }
      ]
    }
  ]
}