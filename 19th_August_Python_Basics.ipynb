{
 "cells": [
  {
   "cell_type": "markdown",
   "id": "21520f62",
   "metadata": {},
   "source": [
    "# Python Basics Variable"
   ]
  },
  {
   "cell_type": "code",
   "execution_count": 24,
   "id": "9634cb0b",
   "metadata": {},
   "outputs": [
    {
     "name": "stdout",
     "output_type": "stream",
     "text": [
      "Num1: 7  Num2: 5\n"
     ]
    }
   ],
   "source": [
    "#Question1\n",
    "\n",
    "Num1 = 5\n",
    "Num2 = 7\n",
    "\n",
    "# Adding Num1 and Num2 and storing it in Num1(12)\n",
    "Num1 = Num1 + Num2\n",
    "\n",
    "# Subtracting Num2 with Num1 and storing it in Num2(5)\n",
    "Num2 = Num1 - Num2\n",
    "\n",
    "# Subtracting Num1 with Num2 and storing it in Num1(7)\n",
    "Num1 = Num1 - Num2\n",
    "\n",
    "print(\"Num1:\", Num1, \" Num2:\", Num2)"
   ]
  },
  {
   "cell_type": "code",
   "execution_count": 25,
   "id": "5e46d3a6",
   "metadata": {},
   "outputs": [
    {
     "name": "stdout",
     "output_type": "stream",
     "text": [
      "Enter the length of rectangel: 4.6\n",
      "Enter the length of rectangel: 7.4\n",
      "Area of the rectangle: 34.04\n"
     ]
    }
   ],
   "source": [
    "#Question2\n",
    "\n",
    "l = float(input(\"Enter the length of rectangel: \"))\n",
    "b = float(input(\"Enter the length of rectangel: \"))\n",
    "\n",
    "# Multiply l and b to get area of the rectangle\n",
    "Area = l*b\n",
    "print(\"Area of the rectangle:\", Area)"
   ]
  },
  {
   "cell_type": "code",
   "execution_count": 9,
   "id": "bd750f88",
   "metadata": {},
   "outputs": [
    {
     "name": "stdout",
     "output_type": "stream",
     "text": [
      "Enter the temperature in Celsius: 40\n",
      "Temperature in Fahrenheit:  104.0\n"
     ]
    }
   ],
   "source": [
    "#Question3\n",
    "\n",
    "T = float(input(\"Enter the temperature in Celsius: \"))\n",
    "\n",
    "# This the formula to convert Celsius to Fahrenheit\n",
    "temp = (T * 9/5) + 32\n",
    "print(\"Temperature in Fahrenheit: \", temp)"
   ]
  },
  {
   "cell_type": "markdown",
   "id": "dcd57e42",
   "metadata": {},
   "source": [
    "# String Based Questions"
   ]
  },
  {
   "cell_type": "code",
   "execution_count": 11,
   "id": "c8309e08",
   "metadata": {},
   "outputs": [
    {
     "name": "stdout",
     "output_type": "stream",
     "text": [
      "Enter the words: Hi I am Logesh\n",
      "14\n"
     ]
    }
   ],
   "source": [
    "#Question1\n",
    "\n",
    "string1 = input(\"Enter the words: \")\n",
    "\n",
    "# The function len() will return the length of the string\n",
    "print(len(s))"
   ]
  },
  {
   "cell_type": "code",
   "execution_count": 16,
   "id": "50f37dfd",
   "metadata": {},
   "outputs": [
    {
     "name": "stdout",
     "output_type": "stream",
     "text": [
      "Enter the Sentence: I am Logesh\n",
      "Total number of vowels in the sentence is:  4\n"
     ]
    }
   ],
   "source": [
    "#Question2\n",
    "\n",
    "vowels = ('a', 'e', 'i', 'o', 'u')\n",
    "sentence = input(\"Enter the Sentence: \")\n",
    "count = 0\n",
    "for vowel in vowels:\n",
    "    for letter in sentence:\n",
    "\n",
    "        \"\"\"lower() function is used to make the string into lower case\n",
    "        because all the vowels are in lower case\"\"\"\n",
    "        if vowel == letter.lower():\n",
    "            count += 1\n",
    "print(\"Total number of vowels in the sentence is: \", count)"
   ]
  },
  {
   "cell_type": "code",
   "execution_count": 17,
   "id": "cc0c2966",
   "metadata": {},
   "outputs": [
    {
     "name": "stdout",
     "output_type": "stream",
     "text": [
      "Reverse order of the string is: .hsegoL ma I\n"
     ]
    }
   ],
   "source": [
    "#Question3\n",
    "\n",
    "string2 = \"I am Logesh.\"\n",
    "print(\"Reverse order of the string is: \" + string2[::-1])"
   ]
  },
  {
   "cell_type": "code",
   "execution_count": 27,
   "id": "1fd92324",
   "metadata": {},
   "outputs": [
    {
     "name": "stdout",
     "output_type": "stream",
     "text": [
      "Enter the word/phrase: hi iH\n",
      "It is a Palindrome\n"
     ]
    }
   ],
   "source": [
    "#Question4\n",
    "\n",
    "string3 = input(\"Enter the word/phrase: \")\n",
    "\n",
    "# Store the reverse order of the string in a variable\n",
    "string4 = string3[::-1]\n",
    "\n",
    "#check whether the two strings are same or different\n",
    "if string3.lower() == string4.lower():\n",
    "    print(\"It is a Palindrome\")\n",
    "else:\n",
    "    print(\"It is not a Palindrome\")"
   ]
  },
  {
   "cell_type": "code",
   "execution_count": 33,
   "id": "7aa04826",
   "metadata": {},
   "outputs": [
    {
     "name": "stdout",
     "output_type": "stream",
     "text": [
      "Enter the sentence: Hi!!! I am Logesh\n",
      "String without spaces: Hi!!!IamLogesh\n"
     ]
    }
   ],
   "source": [
    "#Question5\n",
    "\n",
    "string5 = input(\"Enter the sentence: \")\n",
    "\n",
    "\"\"\"split() function is used to seperate each words with the delimeter\n",
    "which we are passsing and append it seperately into the list\"\"\"\n",
    "\n",
    "List = string5.split(' ')\n",
    "\n",
    "\"\"\"join() function is used to join each item in a list into string and\n",
    "uses separator as the string which we are using to call the function\"\"\"\n",
    "\n",
    "string6 = ''.join(List)\n",
    "\n",
    "print(\"String without spaces: \" + string6)"
   ]
  }
 ],
 "metadata": {
  "kernelspec": {
   "display_name": "Python 3",
   "language": "python",
   "name": "python3"
  },
  "language_info": {
   "codemirror_mode": {
    "name": "ipython",
    "version": 3
   },
   "file_extension": ".py",
   "mimetype": "text/x-python",
   "name": "python",
   "nbconvert_exporter": "python",
   "pygments_lexer": "ipython3",
   "version": "3.8.8"
  }
 },
 "nbformat": 4,
 "nbformat_minor": 5
}
